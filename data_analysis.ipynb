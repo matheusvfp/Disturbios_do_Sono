{
 "cells": [
  {
   "cell_type": "code",
   "execution_count": 5,
   "metadata": {},
   "outputs": [],
   "source": [
    "import os\n",
    "import numpy as np\n",
    "import pandas as pd\n",
    "import matplotlib.pyplot as plt\n",
    "\n",
    "import plotly.express as px\n",
    "import seaborn as sns"
   ]
  },
  {
   "cell_type": "code",
   "execution_count": 6,
   "metadata": {},
   "outputs": [
    {
     "data": {
      "text/html": [
       "<div>\n",
       "<style scoped>\n",
       "    .dataframe tbody tr th:only-of-type {\n",
       "        vertical-align: middle;\n",
       "    }\n",
       "\n",
       "    .dataframe tbody tr th {\n",
       "        vertical-align: top;\n",
       "    }\n",
       "\n",
       "    .dataframe thead th {\n",
       "        text-align: right;\n",
       "    }\n",
       "</style>\n",
       "<table border=\"1\" class=\"dataframe\">\n",
       "  <thead>\n",
       "    <tr style=\"text-align: right;\">\n",
       "      <th></th>\n",
       "      <th>Person ID</th>\n",
       "      <th>Gender</th>\n",
       "      <th>Age</th>\n",
       "      <th>Occupation</th>\n",
       "      <th>Sleep Duration</th>\n",
       "      <th>Quality of Sleep</th>\n",
       "      <th>Physical Activity Level</th>\n",
       "      <th>Stress Level</th>\n",
       "      <th>BMI Category</th>\n",
       "      <th>Blood Pressure</th>\n",
       "      <th>Heart Rate</th>\n",
       "      <th>Daily Steps</th>\n",
       "      <th>Sleep Disorder</th>\n",
       "    </tr>\n",
       "  </thead>\n",
       "  <tbody>\n",
       "    <tr>\n",
       "      <th>0</th>\n",
       "      <td>1</td>\n",
       "      <td>Male</td>\n",
       "      <td>27</td>\n",
       "      <td>Software Engineer</td>\n",
       "      <td>6.1</td>\n",
       "      <td>6</td>\n",
       "      <td>42</td>\n",
       "      <td>6</td>\n",
       "      <td>Overweight</td>\n",
       "      <td>126/83</td>\n",
       "      <td>77</td>\n",
       "      <td>4200</td>\n",
       "      <td>NaN</td>\n",
       "    </tr>\n",
       "    <tr>\n",
       "      <th>1</th>\n",
       "      <td>2</td>\n",
       "      <td>Male</td>\n",
       "      <td>28</td>\n",
       "      <td>Doctor</td>\n",
       "      <td>6.2</td>\n",
       "      <td>6</td>\n",
       "      <td>60</td>\n",
       "      <td>8</td>\n",
       "      <td>Normal</td>\n",
       "      <td>125/80</td>\n",
       "      <td>75</td>\n",
       "      <td>10000</td>\n",
       "      <td>NaN</td>\n",
       "    </tr>\n",
       "    <tr>\n",
       "      <th>2</th>\n",
       "      <td>3</td>\n",
       "      <td>Male</td>\n",
       "      <td>28</td>\n",
       "      <td>Doctor</td>\n",
       "      <td>6.2</td>\n",
       "      <td>6</td>\n",
       "      <td>60</td>\n",
       "      <td>8</td>\n",
       "      <td>Normal</td>\n",
       "      <td>125/80</td>\n",
       "      <td>75</td>\n",
       "      <td>10000</td>\n",
       "      <td>NaN</td>\n",
       "    </tr>\n",
       "    <tr>\n",
       "      <th>3</th>\n",
       "      <td>4</td>\n",
       "      <td>Male</td>\n",
       "      <td>28</td>\n",
       "      <td>Sales Representative</td>\n",
       "      <td>5.9</td>\n",
       "      <td>4</td>\n",
       "      <td>30</td>\n",
       "      <td>8</td>\n",
       "      <td>Obese</td>\n",
       "      <td>140/90</td>\n",
       "      <td>85</td>\n",
       "      <td>3000</td>\n",
       "      <td>Sleep Apnea</td>\n",
       "    </tr>\n",
       "    <tr>\n",
       "      <th>4</th>\n",
       "      <td>5</td>\n",
       "      <td>Male</td>\n",
       "      <td>28</td>\n",
       "      <td>Sales Representative</td>\n",
       "      <td>5.9</td>\n",
       "      <td>4</td>\n",
       "      <td>30</td>\n",
       "      <td>8</td>\n",
       "      <td>Obese</td>\n",
       "      <td>140/90</td>\n",
       "      <td>85</td>\n",
       "      <td>3000</td>\n",
       "      <td>Sleep Apnea</td>\n",
       "    </tr>\n",
       "  </tbody>\n",
       "</table>\n",
       "</div>"
      ],
      "text/plain": [
       "   Person ID Gender  Age            Occupation  Sleep Duration  \\\n",
       "0          1   Male   27     Software Engineer             6.1   \n",
       "1          2   Male   28                Doctor             6.2   \n",
       "2          3   Male   28                Doctor             6.2   \n",
       "3          4   Male   28  Sales Representative             5.9   \n",
       "4          5   Male   28  Sales Representative             5.9   \n",
       "\n",
       "   Quality of Sleep  Physical Activity Level  Stress Level BMI Category  \\\n",
       "0                 6                       42             6   Overweight   \n",
       "1                 6                       60             8       Normal   \n",
       "2                 6                       60             8       Normal   \n",
       "3                 4                       30             8        Obese   \n",
       "4                 4                       30             8        Obese   \n",
       "\n",
       "  Blood Pressure  Heart Rate  Daily Steps Sleep Disorder  \n",
       "0         126/83          77         4200            NaN  \n",
       "1         125/80          75        10000            NaN  \n",
       "2         125/80          75        10000            NaN  \n",
       "3         140/90          85         3000    Sleep Apnea  \n",
       "4         140/90          85         3000    Sleep Apnea  "
      ]
     },
     "execution_count": 6,
     "metadata": {},
     "output_type": "execute_result"
    }
   ],
   "source": [
    "df = pd.read_csv('Sleep_health_and_lifestyle_dataset.csv', sep=',')\n",
    "df.head()"
   ]
  },
  {
   "cell_type": "code",
   "execution_count": 16,
   "metadata": {},
   "outputs": [
    {
     "data": {
      "text/plain": [
       "array(['Software Engineer', 'Doctor', 'Sales Representative', 'Teacher',\n",
       "       'Nurse', 'Engineer', 'Accountant', 'Scientist', 'Lawyer',\n",
       "       'Salesperson', 'Manager'], dtype=object)"
      ]
     },
     "execution_count": 16,
     "metadata": {},
     "output_type": "execute_result"
    }
   ],
   "source": [
    "df['occupation'].unique()"
   ]
  },
  {
   "cell_type": "code",
   "execution_count": 7,
   "metadata": {},
   "outputs": [],
   "source": [
    "df.drop(columns='Person ID',inplace=True)"
   ]
  },
  {
   "cell_type": "code",
   "execution_count": 8,
   "metadata": {},
   "outputs": [
    {
     "data": {
      "text/plain": [
       "gender                       0\n",
       "age                          0\n",
       "occupation                   0\n",
       "sleep_duration               0\n",
       "quality_of_sleep             0\n",
       "physical_activity_level      0\n",
       "stress_level                 0\n",
       "bmi_category                 0\n",
       "blood_pressure               0\n",
       "heart_rate                   0\n",
       "daily_steps                  0\n",
       "sleep_disorder             219\n",
       "dtype: int64"
      ]
     },
     "execution_count": 8,
     "metadata": {},
     "output_type": "execute_result"
    }
   ],
   "source": [
    "df.columns = [i.lower().replace(' ', '_') for i in df.columns]\n",
    "df.isna().sum()"
   ]
  },
  {
   "cell_type": "code",
   "execution_count": 5,
   "metadata": {},
   "outputs": [
    {
     "data": {
      "text/plain": [
       "array(['126/83', '125/80', '140/90', '120/80', '132/87', '130/86',\n",
       "       '117/76', '118/76', '128/85', '131/86', '128/84', '115/75',\n",
       "       '135/88', '129/84', '130/85', '115/78', '119/77', '121/79',\n",
       "       '125/82', '135/90', '122/80', '142/92', '140/95', '139/91',\n",
       "       '118/75'], dtype=object)"
      ]
     },
     "execution_count": 5,
     "metadata": {},
     "output_type": "execute_result"
    }
   ],
   "source": [
    "df.blood_pressure.unique()\n"
   ]
  },
  {
   "cell_type": "code",
   "execution_count": 9,
   "metadata": {},
   "outputs": [],
   "source": [
    "df[['systolic', 'diastolic']\n",
    "           ] = df.blood_pressure.str.split('/', expand=True)\n",
    "\n",
    "df['systolic'] = df['systolic'].astype('int')\n",
    "df['diastolic'] = df['diastolic'].astype('int')\n",
    "df.drop('blood_pressure', axis=1, inplace=True)"
   ]
  },
  {
   "cell_type": "code",
   "execution_count": 12,
   "metadata": {},
   "outputs": [
    {
     "data": {
      "image/png": "[encoded data removed]",
      "text/plain": [
       "<Figure size 640x480 with 1 Axes>"
      ]
     },
     "metadata": {},
     "output_type": "display_data"
    }
   ],
   "source": [
    "# Assuming the original values in the 'gender' column are 'female' and 'male'\n",
    "df['gender'] = df['gender'].replace({'Female': 'F', 'Male': 'M'})\n",
    "\n",
    "plt.pie(df['gender'].value_counts().values,\n",
    "        labels=df['gender'].value_counts().index, autopct='%1.1f%%', startangle=140, textprops={'fontsize': 12})\n",
    "\n",
    "plt.title('Distribuição de Gênero')\n",
    "\n",
    "plt.show()"
   ]
  },
  {
   "cell_type": "code",
   "execution_count": 23,
   "metadata": {},
   "outputs": [
    {
     "data": {
      "image/png": "[encoded data removed]",
      "text/plain": [
       "<Figure size 640x480 with 1 Axes>"
      ]
     },
     "metadata": {},
     "output_type": "display_data"
    }
   ],
   "source": [
    "gender_by_occupation = df.groupby(\n",
    "    ['occupation', 'gender']).size().reset_index(name='count')\n",
    "\n",
    "gender_colors = {'M': 'blue', 'F': 'orange'}\n",
    "\n",
    "gender_by_occupation = gender_by_occupation.sort_values(\n",
    "    by='count', ascending=False)\n",
    "\n",
    "sns.barplot(y='count', x='occupation', hue='gender', data=gender_by_occupation,\n",
    "            palette=gender_colors, width=0.8)\n",
    "\n",
    "plt.title('Profissão por Gênero')\n",
    "plt.xlabel('Profissão')\n",
    "plt.ylabel('Quantidade de pessoas')\n",
    "\n",
    "occupation_names_pt = [\n",
    "    'Enfermeiro', 'Médico', 'Advogado',  'Contador',  'Professor',\n",
    "     'Engenheiro', 'Vendedor', 'Cientista',  'Engenheiro de Software', \n",
    "      'Representante de Vendas', 'Gerente'\n",
    "]\n",
    "\n",
    "plt.xticks(\n",
    "    ticks=range(len(occupation_names_pt)),\n",
    "    labels=occupation_names_pt,\n",
    "    rotation=45,\n",
    "    ha='right'\n",
    ")\n",
    "\n",
    "plt.legend(title='Gênero')\n",
    "\n",
    "plt.show()\n"
   ]
  },
  {
   "cell_type": "code",
   "execution_count": 9,
   "metadata": {},
   "outputs": [
    {
     "data": {
      "image/png": "[encoded data removed]",
      "text/plain": [
       "<Figure size 640x480 with 1 Axes>"
      ]
     },
     "metadata": {},
     "output_type": "display_data"
    }
   ],
   "source": [
    "gender_by_bmi = df.groupby(\n",
    "    ['bmi_category', 'gender']).size().reset_index(name='count')\n",
    "\n",
    "gender_colors = {'Male': 'blue', 'Female': 'red'}\n",
    "\n",
    "gender_by_bmi = gender_by_bmi.sort_values(\n",
    "    by='count', ascending=False)\n",
    "\n",
    "\n",
    "sns.barplot(y='count', x='bmi_category', hue='gender', data=gender_by_bmi,\n",
    "            palette=gender_colors, width=0.8)\n",
    "\n",
    "plt.title('IMC por Gênero')\n",
    "plt.xlabel('IMC')\n",
    "plt.ylabel('Indice')\n",
    "\n",
    "plt.xticks(rotation=45, ha='right')\n",
    "\n",
    "\n",
    "plt.show()"
   ]
  },
  {
   "cell_type": "code",
   "execution_count": 25,
   "metadata": {},
   "outputs": [
    {
     "data": {
      "image/png": "[encoded data removed]",
      "text/plain": [
       "<Figure size 640x480 with 1 Axes>"
      ]
     },
     "metadata": {},
     "output_type": "display_data"
    }
   ],
   "source": [
    "occupation_counts = df['occupation'].value_counts(\n",
    ").sort_values(ascending=False)\n",
    "\n",
    "\n",
    "sns.barplot(x=occupation_counts.index, y=occupation_counts.values)\n",
    "\n",
    "plt.xticks(\n",
    "    ticks=range(len(occupation_names_pt)),\n",
    "    labels=occupation_names_pt,\n",
    "    rotation=45,\n",
    "    ha='right'\n",
    ")\n",
    "\n",
    "plt.title('Nível de distúrbio por profissão')\n",
    "plt.xlabel('Profissão')\n",
    "plt.ylabel('Quantidade')\n",
    "\n",
    "plt.xticks(rotation=45, ha='right')\n",
    "\n",
    "plt.show()"
   ]
  },
  {
   "cell_type": "code",
   "execution_count": 11,
   "metadata": {},
   "outputs": [
    {
     "data": {
      "image/png": "[encoded data removed]",
      "text/plain": [
       "<Figure size 640x480 with 1 Axes>"
      ]
     },
     "metadata": {},
     "output_type": "display_data"
    }
   ],
   "source": [
    "sleep_duration_by_occupation = df.groupby(\n",
    "    ['sleep_duration', 'occupation']).size().reset_index(name='count')\n",
    "\n",
    "\n",
    "sleep_duration_by_occupation = sleep_duration_by_occupation.sort_values(\n",
    "    by='count', ascending=False)\n",
    "\n",
    "\n",
    "sns.boxplot(y='sleep_duration', x='occupation',\n",
    "            data=sleep_duration_by_occupation)\n",
    "\n",
    "plt.title('Duração do sono por Ocupação')\n",
    "plt.xlabel('Ocupação')\n",
    "plt.ylabel('Duração do Sono')\n",
    "\n",
    "\n",
    "plt.xticks(rotation=45, ha='right')\n",
    "\n",
    "plt.show()"
   ]
  },
  {
   "cell_type": "code",
   "execution_count": 29,
   "metadata": {},
   "outputs": [
    {
     "data": {
      "text/plain": [
       "array([nan, 'Sleep Apnea', 'Insomnia'], dtype=object)"
      ]
     },
     "execution_count": 29,
     "metadata": {},
     "output_type": "execute_result"
    }
   ],
   "source": [
    "df['sleep_disorder'].unique()"
   ]
  },
  {
   "cell_type": "code",
   "execution_count": 30,
   "metadata": {},
   "outputs": [
    {
     "data": {
      "text/plain": [
       "array(['Overweight', 'Normal', 'Obese', 'Normal Weight'], dtype=object)"
      ]
     },
     "execution_count": 30,
     "metadata": {},
     "output_type": "execute_result"
    }
   ],
   "source": [
    "df['bmi_category'].unique()"
   ]
  },
  {
   "cell_type": "code",
   "execution_count": 35,
   "metadata": {},
   "outputs": [
    {
     "data": {
      "application/vnd.plotly.v1+json": {
       "config": {
        "plotlyServerURL": "https://plot.ly"
       },
       "data": [
        {
         "alignmentgroup": "True",
         "box": {
          "visible": false
         },
         "hovertemplate": "sleep_disorder=%{x}<br>bmi_category=%{y}<extra></extra>",
         "legendgroup": "",
         "marker": {
          "color": "#636efa"
         },
         "name": "",
         "offsetgroup": "",
         "orientation": "v",
         "scalegroup": "True",
         "showlegend": false,
         "type": "violin",
         "x": [
          null,
          null,
          null,
          "Sleep Apnea",
          "Sleep Apnea",
          "Insomnia",
          "Insomnia",
          null,
          null,
          null,
          null,
          null,
          null,
          null,
          null,
          null,
          "Sleep Apnea",
          "Sleep Apnea",
          "Insomnia",
          null,
          null,
          null,
          null,
          null,
          null,
          null,
          null,
          null,
          null,
          null,
          "Sleep Apnea",
          "Insomnia",
          null,
          null,
          null,
          null,
          null,
          null,
          null,
          null,
          null,
          null,
          null,
          null,
          null,
          null,
          null,
          null,
          null,
          "Sleep Apnea",
          null,
          null,
          null,
          null,
          null,
          null,
          null,
          null,
          null,
          null,
          null,
          null,
          null,
          null,
          null,
          null,
          null,
          "Insomnia",
          null,
          null,
          null,
          null,
          null,
          null,
          null,
          null,
          null,
          null,
          null,
          null,
          "Sleep Apnea",
          "Sleep Apnea",
          null,
          null,
          null,
          null,
          null,
          null,
          null,
          null,
          null,
          null,
          null,
          "Sleep Apnea",
          "Insomnia",
          null,
          null,
          null,
          null,
          null,
          null,
          null,
          null,
          "Sleep Apnea",
          "Sleep Apnea",
          "Insomnia",
          null,
          null,
          null,
          null,
          null,
          null,
          null,
          null,
          null,
          null,
          null,
          null,
          null,
          null,
          null,
          null,
          null,
          null,
          null,
          null,
          null,
          null,
          null,
          null,
          null,
          null,
          null,
          null,
          null,
          null,
          null,
          null,
          null,
          null,
          null,
          null,
          null,
          null,
          "Sleep Apnea",
          "Sleep Apnea",
          "Insomnia",
          "Insomnia",
          null,
          null,
          null,
          null,
          null,
          null,
          null,
          null,
          null,
          null,
          null,
          null,
          null,
          null,
          null,
          null,
          null,
          "Insomnia",
          null,
          null,
          null,
          null,
          null,
          null,
          null,
          null,
          null,
          null,
          null,
          "Insomnia",
          null,
          null,
          null,
          null,
          null,
          null,
          "Sleep Apnea",
          "Sleep Apnea",
          "Insomnia",
          "Insomnia",
          "Insomnia",
          "Insomnia",
          "Insomnia",
          "Insomnia",
          "Insomnia",
          "Insomnia",
          "Insomnia",
          "Insomnia",
          "Insomnia",
          "Insomnia",
          "Insomnia",
          "Insomnia",
          "Insomnia",
          "Insomnia",
          "Insomnia",
          null,
          null,
          null,
          null,
          null,
          null,
          null,
          null,
          null,
          null,
          null,
          null,
          null,
          null,
          null,
          "Sleep Apnea",
          "Sleep Apnea",
          "Insomnia",
          "Insomnia",
          "Insomnia",
          "Insomnia",
          "Insomnia",
          "Insomnia",
          "Insomnia",
          "Insomnia",
          "Insomnia",
          "Insomnia",
          "Insomnia",
          "Insomnia",
          "Insomnia",
          "Insomnia",
          "Insomnia",
          "Insomnia",
          "Insomnia",
          "Insomnia",
          "Insomnia",
          "Insomnia",
          "Insomnia",
          "Insomnia",
          "Insomnia",
          "Insomnia",
          "Insomnia",
          "Insomnia",
          "Insomnia",
          "Insomnia",
          null,
          null,
          "Insomnia",
          "Insomnia",
          "Insomnia",
          "Insomnia",
          "Insomnia",
          "Insomnia",
          "Insomnia",
          "Insomnia",
          "Insomnia",
          "Insomnia",
          "Insomnia",
          null,
          null,
          null,
          "Insomnia",
          "Sleep Apnea",
          "Insomnia",
          null,
          "Sleep Apnea",
          "Sleep Apnea",
          "Sleep Apnea",
          "Sleep Apnea",
          "Sleep Apnea",
          "Sleep Apnea",
          "Sleep Apnea",
          "Sleep Apnea",
          "Sleep Apnea",
          "Sleep Apnea",
          "Insomnia",
          null,
          null,
          "Sleep Apnea",
          "Sleep Apnea",
          "Sleep Apnea",
          "Sleep Apnea",
          "Sleep Apnea",
          "Sleep Apnea",
          "Sleep Apnea",
          "Sleep Apnea",
          "Sleep Apnea",
          "Sleep Apnea",
          "Sleep Apnea",
          "Sleep Apnea",
          "Sleep Apnea",
          "Sleep Apnea",
          "Sleep Apnea",
          "Sleep Apnea",
          "Sleep Apnea",
          null,
          null,
          null,
          null,
          null,
          "Sleep Apnea",
          "Sleep Apnea",
          "Sleep Apnea",
          "Insomnia",
          "Insomnia",
          "Insomnia",
          "Insomnia",
          "Insomnia",
          "Insomnia",
          null,
          null,
          null,
          "Insomnia",
          null,
          null,
          null,
          null,
          null,
          null,
          null,
          null,
          null,
          null,
          null,
          null,
          null,
          null,
          null,
          null,
          null,
          null,
          null,
          null,
          null,
          null,
          null,
          "Sleep Apnea",
          "Sleep Apnea",
          null,
          null,
          null,
          "Sleep Apnea",
          "Sleep Apnea",
          "Sleep Apnea",
          "Sleep Apnea",
          "Sleep Apnea",
          "Sleep Apnea",
          "Sleep Apnea",
          "Sleep Apnea",
          "Sleep Apnea",
          "Sleep Apnea",
          "Sleep Apnea",
          "Sleep Apnea",
          "Sleep Apnea",
          "Sleep Apnea",
          null,
          null,
          "Sleep Apnea",
          "Sleep Apnea",
          "Sleep Apnea",
          "Sleep Apnea",
          "Sleep Apnea",
          "Sleep Apnea",
          "Sleep Apnea",
          "Sleep Apnea",
          "Sleep Apnea",
          "Sleep Apnea",
          "Sleep Apnea",
          "Sleep Apnea",
          "Sleep Apnea",
          "Sleep Apnea"
         ],
         "x0": " ",
         "xaxis": "x",
         "y": [
          "Sobrepeso",
          "Normal",
          "Normal",
          "Obeso",
          "Obeso",
          "Obeso",
          "Obeso",
          "Normal",
          "Normal",
          "Normal",
          "Normal",
          "Normal",
          "Normal",
          "Normal",
          "Normal",
          "Normal",
          "Peso Normal",
          "Normal",
          "Peso Normal",
          "Normal",
          "Normal",
          "Normal",
          "Normal",
          "Normal",
          "Normal",
          "Normal",
          "Normal",
          "Normal",
          "Normal",
          "Normal",
          "Peso Normal",
          "Peso Normal",
          "Peso Normal",
          "Normal",
          "Normal",
          "Normal",
          "Normal",
          "Normal",
          "Normal",
          "Normal",
          "Normal",
          "Normal",
          "Normal",
          "Normal",
          "Normal",
          "Normal",
          "Normal",
          "Normal",
          "Normal",
          "Normal",
          "Normal",
          "Normal",
          "Normal",
          "Normal",
          "Normal",
          "Normal",
          "Normal",
          "Normal",
          "Normal",
          "Normal",
          "Normal",
          "Normal",
          "Normal",
          "Normal",
          "Normal",
          "Normal",
          "Peso Normal",
          "Normal",
          "Sobrepeso",
          "Sobrepeso",
          "Normal",
          "Normal",
          "Normal",
          "Normal",
          "Normal",
          "Normal",
          "Normal",
          "Normal",
          "Normal",
          "Normal",
          "Sobrepeso",
          "Sobrepeso",
          "Sobrepeso",
          "Sobrepeso",
          "Peso Normal",
          "Normal",
          "Normal",
          "Normal",
          "Normal",
          "Normal",
          "Normal",
          "Normal",
          "Peso Normal",
          "Obeso",
          "Normal",
          "Normal",
          "Normal",
          "Normal",
          "Normal",
          "Normal",
          "Normal",
          "Normal",
          "Normal",
          "Sobrepeso",
          "Normal",
          "Sobrepeso",
          "Sobrepeso",
          "Peso Normal",
          "Peso Normal",
          "Normal",
          "Normal",
          "Normal",
          "Normal",
          "Normal",
          "Normal",
          "Normal",
          "Normal",
          "Normal",
          "Normal",
          "Normal",
          "Normal",
          "Normal",
          "Normal",
          "Normal",
          "Normal",
          "Peso Normal",
          "Normal",
          "Normal",
          "Normal",
          "Normal",
          "Normal",
          "Normal",
          "Normal",
          "Normal",
          "Normal",
          "Normal",
          "Normal",
          "Normal",
          "Normal",
          "Normal",
          "Normal",
          "Normal",
          "Normal",
          "Normal",
          "Normal",
          "Obeso",
          "Normal",
          "Sobrepeso",
          "Peso Normal",
          "Peso Normal",
          "Peso Normal",
          "Normal",
          "Normal",
          "Normal",
          "Normal",
          "Normal",
          "Normal",
          "Normal",
          "Normal",
          "Normal",
          "Normal",
          "Peso Normal",
          "Peso Normal",
          "Normal",
          "Normal",
          "Normal",
          "Peso Normal",
          "Sobrepeso",
          "Sobrepeso",
          "Normal",
          "Normal",
          "Normal",
          "Normal",
          "Normal",
          "Normal",
          "Normal",
          "Normal",
          "Sobrepeso",
          "Normal",
          "Normal",
          "Normal",
          "Normal",
          "Normal",
          "Normal",
          "Sobrepeso",
          "Sobrepeso",
          "Sobrepeso",
          "Sobrepeso",
          "Sobrepeso",
          "Sobrepeso",
          "Sobrepeso",
          "Sobrepeso",
          "Sobrepeso",
          "Sobrepeso",
          "Sobrepeso",
          "Sobrepeso",
          "Sobrepeso",
          "Sobrepeso",
          "Sobrepeso",
          "Sobrepeso",
          "Sobrepeso",
          "Normal",
          "Normal",
          "Peso Normal",
          "Sobrepeso",
          "Normal",
          "Normal",
          "Normal",
          "Normal",
          "Normal",
          "Normal",
          "Normal",
          "Normal",
          "Normal",
          "Normal",
          "Normal",
          "Normal",
          "Normal",
          "Normal",
          "Sobrepeso",
          "Sobrepeso",
          "Sobrepeso",
          "Sobrepeso",
          "Sobrepeso",
          "Sobrepeso",
          "Sobrepeso",
          "Sobrepeso",
          "Sobrepeso",
          "Sobrepeso",
          "Sobrepeso",
          "Sobrepeso",
          "Sobrepeso",
          "Sobrepeso",
          "Sobrepeso",
          "Sobrepeso",
          "Sobrepeso",
          "Sobrepeso",
          "Sobrepeso",
          "Sobrepeso",
          "Sobrepeso",
          "Sobrepeso",
          "Sobrepeso",
          "Sobrepeso",
          "Sobrepeso",
          "Sobrepeso",
          "Sobrepeso",
          "Sobrepeso",
          "Sobrepeso",
          "Sobrepeso",
          "Sobrepeso",
          "Sobrepeso",
          "Sobrepeso",
          "Sobrepeso",
          "Sobrepeso",
          "Sobrepeso",
          "Sobrepeso",
          "Sobrepeso",
          "Sobrepeso",
          "Sobrepeso",
          "Sobrepeso",
          "Sobrepeso",
          "Sobrepeso",
          "Sobrepeso",
          "Sobrepeso",
          "Obeso",
          "Sobrepeso",
          "Obeso",
          "Sobrepeso",
          "Sobrepeso",
          "Sobrepeso",
          "Sobrepeso",
          "Sobrepeso",
          "Sobrepeso",
          "Sobrepeso",
          "Sobrepeso",
          "Sobrepeso",
          "Obeso",
          "Obeso",
          "Sobrepeso",
          "Normal",
          "Sobrepeso",
          "Sobrepeso",
          "Sobrepeso",
          "Sobrepeso",
          "Sobrepeso",
          "Sobrepeso",
          "Sobrepeso",
          "Sobrepeso",
          "Sobrepeso",
          "Sobrepeso",
          "Sobrepeso",
          "Sobrepeso",
          "Sobrepeso",
          "Sobrepeso",
          "Sobrepeso",
          "Sobrepeso",
          "Sobrepeso",
          "Sobrepeso",
          "Normal",
          "Normal",
          "Normal",
          "Normal",
          "Peso Normal",
          "Sobrepeso",
          "Sobrepeso",
          "Sobrepeso",
          "Sobrepeso",
          "Sobrepeso",
          "Sobrepeso",
          "Sobrepeso",
          "Sobrepeso",
          "Sobrepeso",
          "Normal",
          "Normal",
          "Normal",
          "Normal",
          "Normal",
          "Normal",
          "Normal",
          "Normal",
          "Normal",
          "Normal",
          "Normal",
          "Normal",
          "Normal",
          "Normal",
          "Normal",
          "Normal",
          "Normal",
          "Normal",
          "Normal",
          "Normal",
          "Normal",
          "Normal",
          "Normal",
          "Normal",
          "Normal",
          "Normal",
          "Normal",
          "Sobrepeso",
          "Sobrepeso",
          "Peso Normal",
          "Peso Normal",
          "Sobrepeso",
          "Sobrepeso",
          "Sobrepeso",
          "Sobrepeso",
          "Sobrepeso",
          "Sobrepeso",
          "Sobrepeso",
          "Sobrepeso",
          "Sobrepeso",
          "Sobrepeso",
          "Sobrepeso",
          "Sobrepeso",
          "Sobrepeso",
          "Sobrepeso",
          "Sobrepeso",
          "Sobrepeso",
          "Sobrepeso",
          "Sobrepeso",
          "Sobrepeso",
          "Sobrepeso",
          "Sobrepeso",
          "Sobrepeso",
          "Sobrepeso",
          "Sobrepeso",
          "Sobrepeso",
          "Sobrepeso",
          "Sobrepeso",
          "Sobrepeso",
          "Sobrepeso",
          "Sobrepeso",
          "Sobrepeso"
         ],
         "y0": " ",
         "yaxis": "y"
        }
       ],
       "layout": {
        "font": {
         "size": 16
        },
        "legend": {
         "tracegroupgap": 0
        },
        "plot_bgcolor": "white",
        "template": {
         "data": {
          "bar": [
           {
            "error_x": {
             "color": "#2a3f5f"
            },
            "error_y": {
             "color": "#2a3f5f"
            },
            "marker": {
             "line": {
              "color": "#E5ECF6",
              "width": 0.5
             },
             "pattern": {
              "fillmode": "overlay",
              "size": 10,
              "solidity": 0.2
             }
            },
            "type": "bar"
           }
          ],
          "barpolar": [
           {
            "marker": {
             "line": {
              "color": "#E5ECF6",
              "width": 0.5
             },
             "pattern": {
              "fillmode": "overlay",
              "size": 10,
              "solidity": 0.2
             }
            },
            "type": "barpolar"
           }
          ],
          "carpet": [
           {
            "aaxis": {
             "endlinecolor": "#2a3f5f",
             "gridcolor": "white",
             "linecolor": "white",
             "minorgridcolor": "white",
             "startlinecolor": "#2a3f5f"
            },
            "baxis": {
             "endlinecolor": "#2a3f5f",
             "gridcolor": "white",
             "linecolor": "white",
             "minorgridcolor": "white",
             "startlinecolor": "#2a3f5f"
            },
            "type": "carpet"
           }
          ],
          "choropleth": [
           {
            "colorbar": {
             "outlinewidth": 0,
             "ticks": ""
            },
            "type": "choropleth"
           }
          ],
          "contour": [
           {
            "colorbar": {
             "outlinewidth": 0,
             "ticks": ""
            },
            "colorscale": [
             [
              0,
              "#0d0887"
             ],
             [
              0.1111111111111111,
              "#46039f"
             ],
             [
              0.2222222222222222,
              "#7201a8"
             ],
             [
              0.3333333333333333,
              "#9c179e"
             ],
             [
              0.4444444444444444,
              "#bd3786"
             ],
             [
              0.5555555555555556,
              "#d8576b"
             ],
             [
              0.6666666666666666,
              "#ed7953"
             ],
             [
              0.7777777777777778,
              "#fb9f3a"
             ],
             [
              0.8888888888888888,
              "#fdca26"
             ],
             [
              1,
              "#f0f921"
             ]
            ],
            "type": "contour"
           }
          ],
          "contourcarpet": [
           {
            "colorbar": {
             "outlinewidth": 0,
             "ticks": ""
            },
            "type": "contourcarpet"
           }
          ],
          "heatmap": [
           {
            "colorbar": {
             "outlinewidth": 0,
             "ticks": ""
            },
            "colorscale": [
             [
              0,
              "#0d0887"
             ],
             [
              0.1111111111111111,
              "#46039f"
             ],
             [
              0.2222222222222222,
              "#7201a8"
             ],
             [
              0.3333333333333333,
              "#9c179e"
             ],
             [
              0.4444444444444444,
              "#bd3786"
             ],
             [
              0.5555555555555556,
              "#d8576b"
             ],
             [
              0.6666666666666666,
              "#ed7953"
             ],
             [
              0.7777777777777778,
              "#fb9f3a"
             ],
             [
              0.8888888888888888,
              "#fdca26"
             ],
             [
              1,
              "#f0f921"
             ]
            ],
            "type": "heatmap"
           }
          ],
          "heatmapgl": [
           {
            "colorbar": {
             "outlinewidth": 0,
             "ticks": ""
            },
            "colorscale": [
             [
              0,
              "#0d0887"
             ],
             [
              0.1111111111111111,
              "#46039f"
             ],
             [
              0.2222222222222222,
              "#7201a8"
             ],
             [
              0.3333333333333333,
              "#9c179e"
             ],
             [
              0.4444444444444444,
              "#bd3786"
             ],
             [
              0.5555555555555556,
              "#d8576b"
             ],
             [
              0.6666666666666666,
              "#ed7953"
             ],
             [
              0.7777777777777778,
              "#fb9f3a"
             ],
             [
              0.8888888888888888,
              "#fdca26"
             ],
             [
              1,
              "#f0f921"
             ]
            ],
            "type": "heatmapgl"
           }
          ],
          "histogram": [
           {
            "marker": {
             "pattern": {
              "fillmode": "overlay",
              "size": 10,
              "solidity": 0.2
             }
            },
            "type": "histogram"
           }
          ],
          "histogram2d": [
           {
            "colorbar": {
             "outlinewidth": 0,
             "ticks": ""
            },
            "colorscale": [
             [
              0,
              "#0d0887"
             ],
             [
              0.1111111111111111,
              "#46039f"
             ],
             [
              0.2222222222222222,
              "#7201a8"
             ],
             [
              0.3333333333333333,
              "#9c179e"
             ],
             [
              0.4444444444444444,
              "#bd3786"
             ],
             [
              0.5555555555555556,
              "#d8576b"
             ],
             [
              0.6666666666666666,
              "#ed7953"
             ],
             [
              0.7777777777777778,
              "#fb9f3a"
             ],
             [
              0.8888888888888888,
              "#fdca26"
             ],
             [
              1,
              "#f0f921"
             ]
            ],
            "type": "histogram2d"
           }
          ],
          "histogram2dcontour": [
           {
            "colorbar": {
             "outlinewidth": 0,
             "ticks": ""
            },
            "colorscale": [
             [
              0,
              "#0d0887"
             ],
             [
              0.1111111111111111,
              "#46039f"
             ],
             [
              0.2222222222222222,
              "#7201a8"
             ],
             [
              0.3333333333333333,
              "#9c179e"
             ],
             [
              0.4444444444444444,
              "#bd3786"
             ],
             [
              0.5555555555555556,
              "#d8576b"
             ],
             [
              0.6666666666666666,
              "#ed7953"
             ],
             [
              0.7777777777777778,
              "#fb9f3a"
             ],
             [
              0.8888888888888888,
              "#fdca26"
             ],
             [
              1,
              "#f0f921"
             ]
            ],
            "type": "histogram2dcontour"
           }
          ],
          "mesh3d": [
           {
            "colorbar": {
             "outlinewidth": 0,
             "ticks": ""
            },
            "type": "mesh3d"
           }
          ],
          "parcoords": [
           {
            "line": {
             "colorbar": {
              "outlinewidth": 0,
              "ticks": ""
             }
            },
            "type": "parcoords"
           }
          ],
          "pie": [
           {
            "automargin": true,
            "type": "pie"
           }
          ],
          "scatter": [
           {
            "fillpattern": {
             "fillmode": "overlay",
             "size": 10,
             "solidity": 0.2
            },
            "type": "scatter"
           }
          ],
          "scatter3d": [
           {
            "line": {
             "colorbar": {
              "outlinewidth": 0,
              "ticks": ""
             }
            },
            "marker": {
             "colorbar": {
              "outlinewidth": 0,
              "ticks": ""
             }
            },
            "type": "scatter3d"
           }
          ],
          "scattercarpet": [
           {
            "marker": {
             "colorbar": {
              "outlinewidth": 0,
              "ticks": ""
             }
            },
            "type": "scattercarpet"
           }
          ],
          "scattergeo": [
           {
            "marker": {
             "colorbar": {
              "outlinewidth": 0,
              "ticks": ""
             }
            },
            "type": "scattergeo"
           }
          ],
          "scattergl": [
           {
            "marker": {
             "colorbar": {
              "outlinewidth": 0,
              "ticks": ""
             }
            },
            "type": "scattergl"
           }
          ],
          "scattermapbox": [
           {
            "marker": {
             "colorbar": {
              "outlinewidth": 0,
              "ticks": ""
             }
            },
            "type": "scattermapbox"
           }
          ],
          "scatterpolar": [
           {
            "marker": {
             "colorbar": {
              "outlinewidth": 0,
              "ticks": ""
             }
            },
            "type": "scatterpolar"
           }
          ],
          "scatterpolargl": [
           {
            "marker": {
             "colorbar": {
              "outlinewidth": 0,
              "ticks": ""
             }
            },
            "type": "scatterpolargl"
           }
          ],
          "scatterternary": [
           {
            "marker": {
             "colorbar": {
              "outlinewidth": 0,
              "ticks": ""
             }
            },
            "type": "scatterternary"
           }
          ],
          "surface": [
           {
            "colorbar": {
             "outlinewidth": 0,
             "ticks": ""
            },
            "colorscale": [
             [
              0,
              "#0d0887"
             ],
             [
              0.1111111111111111,
              "#46039f"
             ],
             [
              0.2222222222222222,
              "#7201a8"
             ],
             [
              0.3333333333333333,
              "#9c179e"
             ],
             [
              0.4444444444444444,
              "#bd3786"
             ],
             [
              0.5555555555555556,
              "#d8576b"
             ],
             [
              0.6666666666666666,
              "#ed7953"
             ],
             [
              0.7777777777777778,
              "#fb9f3a"
             ],
             [
              0.8888888888888888,
              "#fdca26"
             ],
             [
              1,
              "#f0f921"
             ]
            ],
            "type": "surface"
           }
          ],
          "table": [
           {
            "cells": {
             "fill": {
              "color": "#EBF0F8"
             },
             "line": {
              "color": "white"
             }
            },
            "header": {
             "fill": {
              "color": "#C8D4E3"
             },
             "line": {
              "color": "white"
             }
            },
            "type": "table"
           }
          ]
         },
         "layout": {
          "annotationdefaults": {
           "arrowcolor": "#2a3f5f",
           "arrowhead": 0,
           "arrowwidth": 1
          },
          "autotypenumbers": "strict",
          "coloraxis": {
           "colorbar": {
            "outlinewidth": 0,
            "ticks": ""
           }
          },
          "colorscale": {
           "diverging": [
            [
             0,
             "#8e0152"
            ],
            [
             0.1,
             "#c51b7d"
            ],
            [
             0.2,
             "#de77ae"
            ],
            [
             0.3,
             "#f1b6da"
            ],
            [
             0.4,
             "#fde0ef"
            ],
            [
             0.5,
             "#f7f7f7"
            ],
            [
             0.6,
             "#e6f5d0"
            ],
            [
             0.7,
             "#b8e186"
            ],
            [
             0.8,
             "#7fbc41"
            ],
            [
             0.9,
             "#4d9221"
            ],
            [
             1,
             "#276419"
            ]
           ],
           "sequential": [
            [
             0,
             "#0d0887"
            ],
            [
             0.1111111111111111,
             "#46039f"
            ],
            [
             0.2222222222222222,
             "#7201a8"
            ],
            [
             0.3333333333333333,
             "#9c179e"
            ],
            [
             0.4444444444444444,
             "#bd3786"
            ],
            [
             0.5555555555555556,
             "#d8576b"
            ],
            [
             0.6666666666666666,
             "#ed7953"
            ],
            [
             0.7777777777777778,
             "#fb9f3a"
            ],
            [
             0.8888888888888888,
             "#fdca26"
            ],
            [
             1,
             "#f0f921"
            ]
           ],
           "sequentialminus": [
            [
             0,
             "#0d0887"
            ],
            [
             0.1111111111111111,
             "#46039f"
            ],
            [
             0.2222222222222222,
             "#7201a8"
            ],
            [
             0.3333333333333333,
             "#9c179e"
            ],
            [
             0.4444444444444444,
             "#bd3786"
            ],
            [
             0.5555555555555556,
             "#d8576b"
            ],
            [
             0.6666666666666666,
             "#ed7953"
            ],
            [
             0.7777777777777778,
             "#fb9f3a"
            ],
            [
             0.8888888888888888,
             "#fdca26"
            ],
            [
             1,
             "#f0f921"
            ]
           ]
          },
          "colorway": [
           "#636efa",
           "#EF553B",
           "#00cc96",
           "#ab63fa",
           "#FFA15A",
           "#19d3f3",
           "#FF6692",
           "#B6E880",
           "#FF97FF",
           "#FECB52"
          ],
          "font": {
           "color": "#2a3f5f"
          },
          "geo": {
           "bgcolor": "white",
           "lakecolor": "white",
           "landcolor": "#E5ECF6",
           "showlakes": true,
           "showland": true,
           "subunitcolor": "white"
          },
          "hoverlabel": {
           "align": "left"
          },
          "hovermode": "closest",
          "mapbox": {
           "style": "light"
          },
          "paper_bgcolor": "white",
          "plot_bgcolor": "#E5ECF6",
          "polar": {
           "angularaxis": {
            "gridcolor": "white",
            "linecolor": "white",
            "ticks": ""
           },
           "bgcolor": "#E5ECF6",
           "radialaxis": {
            "gridcolor": "white",
            "linecolor": "white",
            "ticks": ""
           }
          },
          "scene": {
           "xaxis": {
            "backgroundcolor": "#E5ECF6",
            "gridcolor": "white",
            "gridwidth": 2,
            "linecolor": "white",
            "showbackground": true,
            "ticks": "",
            "zerolinecolor": "white"
           },
           "yaxis": {
            "backgroundcolor": "#E5ECF6",
            "gridcolor": "white",
            "gridwidth": 2,
            "linecolor": "white",
            "showbackground": true,
            "ticks": "",
            "zerolinecolor": "white"
           },
           "zaxis": {
            "backgroundcolor": "#E5ECF6",
            "gridcolor": "white",
            "gridwidth": 2,
            "linecolor": "white",
            "showbackground": true,
            "ticks": "",
            "zerolinecolor": "white"
           }
          },
          "shapedefaults": {
           "line": {
            "color": "#2a3f5f"
           }
          },
          "ternary": {
           "aaxis": {
            "gridcolor": "white",
            "linecolor": "white",
            "ticks": ""
           },
           "baxis": {
            "gridcolor": "white",
            "linecolor": "white",
            "ticks": ""
           },
           "bgcolor": "#E5ECF6",
           "caxis": {
            "gridcolor": "white",
            "linecolor": "white",
            "ticks": ""
           }
          },
          "title": {
           "x": 0.05
          },
          "xaxis": {
           "automargin": true,
           "gridcolor": "white",
           "linecolor": "white",
           "ticks": "",
           "title": {
            "standoff": 15
           },
           "zerolinecolor": "white",
           "zerolinewidth": 2
          },
          "yaxis": {
           "automargin": true,
           "gridcolor": "white",
           "linecolor": "white",
           "ticks": "",
           "title": {
            "standoff": 15
           },
           "zerolinecolor": "white",
           "zerolinewidth": 2
          }
         }
        },
        "title": {
         "text": "IMC por Distúrbio"
        },
        "violinmode": "group",
        "xaxis": {
         "anchor": "y",
         "domain": [
          0,
          1
         ],
         "title": {
          "text": "Distúrbio do sono"
         }
        },
        "yaxis": {
         "anchor": "x",
         "domain": [
          0,
          1
         ],
         "title": {
          "text": "IMC"
         }
        }
       }
      },
      "text/html": [
       "<div>                            <div id=\"a577cd49-5cc8-418d-b30e-aa6b84257666\" class=\"plotly-graph-div\" style=\"height:525px; width:100%;\"></div>            <script type=\"text/javascript\">                require([\"plotly\"], function(Plotly) {                    window.PLOTLYENV=window.PLOTLYENV || {};                                    if (document.getElementById(\"a577cd49-5cc8-418d-b30e-aa6b84257666\")) {                    Plotly.newPlot(                        \"a577cd49-5cc8-418d-b30e-aa6b84257666\",                        [{\"alignmentgroup\":\"True\",\"box\":{\"visible\":false},\"hovertemplate\":\"sleep_disorder=%{x}\\u003cbr\\u003ebmi_category=%{y}\\u003cextra\\u003e\\u003c\\u002fextra\\u003e\",\"legendgroup\":\"\",\"marker\":{\"color\":\"#636efa\"},\"name\":\"\",\"offsetgroup\":\"\",\"orientation\":\"v\",\"scalegroup\":\"True\",\"showlegend\":false,\"x\":[null,null,null,\"Sleep Apnea\",\"Sleep Apnea\",\"Insomnia\",\"Insomnia\",null,null,null,null,null,null,null,null,null,\"Sleep Apnea\",\"Sleep Apnea\",\"Insomnia\",null,null,null,null,null,null,null,null,null,null,null,\"Sleep Apnea\",\"Insomnia\",null,null,null,null,null,null,null,null,null,null,null,null,null,null,null,null,null,\"Sleep Apnea\",null,null,null,null,null,null,null,null,null,null,null,null,null,null,null,null,null,\"Insomnia\",null,null,null,null,null,null,null,null,null,null,null,null,\"Sleep Apnea\",\"Sleep Apnea\",null,null,null,null,null,null,null,null,null,null,null,\"Sleep Apnea\",\"Insomnia\",null,null,null,null,null,null,null,null,\"Sleep Apnea\",\"Sleep Apnea\",\"Insomnia\",null,null,null,null,null,null,null,null,null,null,null,null,null,null,null,null,null,null,null,null,null,null,null,null,null,null,null,null,null,null,null,null,null,null,null,null,null,null,\"Sleep Apnea\",\"Sleep Apnea\",\"Insomnia\",\"Insomnia\",null,null,null,null,null,null,null,null,null,null,null,null,null,null,null,null,null,\"Insomnia\",null,null,null,null,null,null,null,null,null,null,null,\"Insomnia\",null,null,null,null,null,null,\"Sleep Apnea\",\"Sleep Apnea\",\"Insomnia\",\"Insomnia\",\"Insomnia\",\"Insomnia\",\"Insomnia\",\"Insomnia\",\"Insomnia\",\"Insomnia\",\"Insomnia\",\"Insomnia\",\"Insomnia\",\"Insomnia\",\"Insomnia\",\"Insomnia\",\"Insomnia\",\"Insomnia\",\"Insomnia\",null,null,null,null,null,null,null,null,null,null,null,null,null,null,null,\"Sleep Apnea\",\"Sleep Apnea\",\"Insomnia\",\"Insomnia\",\"Insomnia\",\"Insomnia\",\"Insomnia\",\"Insomnia\",\"Insomnia\",\"Insomnia\",\"Insomnia\",\"Insomnia\",\"Insomnia\",\"Insomnia\",\"Insomnia\",\"Insomnia\",\"Insomnia\",\"Insomnia\",\"Insomnia\",\"Insomnia\",\"Insomnia\",\"Insomnia\",\"Insomnia\",\"Insomnia\",\"Insomnia\",\"Insomnia\",\"Insomnia\",\"Insomnia\",\"Insomnia\",\"Insomnia\",null,null,\"Insomnia\",\"Insomnia\",\"Insomnia\",\"Insomnia\",\"Insomnia\",\"Insomnia\",\"Insomnia\",\"Insomnia\",\"Insomnia\",\"Insomnia\",\"Insomnia\",null,null,null,\"Insomnia\",\"Sleep Apnea\",\"Insomnia\",null,\"Sleep Apnea\",\"Sleep Apnea\",\"Sleep Apnea\",\"Sleep Apnea\",\"Sleep Apnea\",\"Sleep Apnea\",\"Sleep Apnea\",\"Sleep Apnea\",\"Sleep Apnea\",\"Sleep Apnea\",\"Insomnia\",null,null,\"Sleep Apnea\",\"Sleep Apnea\",\"Sleep Apnea\",\"Sleep Apnea\",\"Sleep Apnea\",\"Sleep Apnea\",\"Sleep Apnea\",\"Sleep Apnea\",\"Sleep Apnea\",\"Sleep Apnea\",\"Sleep Apnea\",\"Sleep Apnea\",\"Sleep Apnea\",\"Sleep Apnea\",\"Sleep Apnea\",\"Sleep Apnea\",\"Sleep Apnea\",null,null,null,null,null,\"Sleep Apnea\",\"Sleep Apnea\",\"Sleep Apnea\",\"Insomnia\",\"Insomnia\",\"Insomnia\",\"Insomnia\",\"Insomnia\",\"Insomnia\",null,null,null,\"Insomnia\",null,null,null,null,null,null,null,null,null,null,null,null,null,null,null,null,null,null,null,null,null,null,null,\"Sleep Apnea\",\"Sleep Apnea\",null,null,null,\"Sleep Apnea\",\"Sleep Apnea\",\"Sleep Apnea\",\"Sleep Apnea\",\"Sleep Apnea\",\"Sleep Apnea\",\"Sleep Apnea\",\"Sleep Apnea\",\"Sleep Apnea\",\"Sleep Apnea\",\"Sleep Apnea\",\"Sleep Apnea\",\"Sleep Apnea\",\"Sleep Apnea\",null,null,\"Sleep Apnea\",\"Sleep Apnea\",\"Sleep Apnea\",\"Sleep Apnea\",\"Sleep Apnea\",\"Sleep Apnea\",\"Sleep Apnea\",\"Sleep Apnea\",\"Sleep Apnea\",\"Sleep Apnea\",\"Sleep Apnea\",\"Sleep Apnea\",\"Sleep Apnea\",\"Sleep Apnea\"],\"x0\":\" \",\"xaxis\":\"x\",\"y\":[\"Sobrepeso\",\"Normal\",\"Normal\",\"Obeso\",\"Obeso\",\"Obeso\",\"Obeso\",\"Normal\",\"Normal\",\"Normal\",\"Normal\",\"Normal\",\"Normal\",\"Normal\",\"Normal\",\"Normal\",\"Peso Normal\",\"Normal\",\"Peso Normal\",\"Normal\",\"Normal\",\"Normal\",\"Normal\",\"Normal\",\"Normal\",\"Normal\",\"Normal\",\"Normal\",\"Normal\",\"Normal\",\"Peso Normal\",\"Peso Normal\",\"Peso Normal\",\"Normal\",\"Normal\",\"Normal\",\"Normal\",\"Normal\",\"Normal\",\"Normal\",\"Normal\",\"Normal\",\"Normal\",\"Normal\",\"Normal\",\"Normal\",\"Normal\",\"Normal\",\"Normal\",\"Normal\",\"Normal\",\"Normal\",\"Normal\",\"Normal\",\"Normal\",\"Normal\",\"Normal\",\"Normal\",\"Normal\",\"Normal\",\"Normal\",\"Normal\",\"Normal\",\"Normal\",\"Normal\",\"Normal\",\"Peso Normal\",\"Normal\",\"Sobrepeso\",\"Sobrepeso\",\"Normal\",\"Normal\",\"Normal\",\"Normal\",\"Normal\",\"Normal\",\"Normal\",\"Normal\",\"Normal\",\"Normal\",\"Sobrepeso\",\"Sobrepeso\",\"Sobrepeso\",\"Sobrepeso\",\"Peso Normal\",\"Normal\",\"Normal\",\"Normal\",\"Normal\",\"Normal\",\"Normal\",\"Normal\",\"Peso Normal\",\"Obeso\",\"Normal\",\"Normal\",\"Normal\",\"Normal\",\"Normal\",\"Normal\",\"Normal\",\"Normal\",\"Normal\",\"Sobrepeso\",\"Normal\",\"Sobrepeso\",\"Sobrepeso\",\"Peso Normal\",\"Peso Normal\",\"Normal\",\"Normal\",\"Normal\",\"Normal\",\"Normal\",\"Normal\",\"Normal\",\"Normal\",\"Normal\",\"Normal\",\"Normal\",\"Normal\",\"Normal\",\"Normal\",\"Normal\",\"Normal\",\"Peso Normal\",\"Normal\",\"Normal\",\"Normal\",\"Normal\",\"Normal\",\"Normal\",\"Normal\",\"Normal\",\"Normal\",\"Normal\",\"Normal\",\"Normal\",\"Normal\",\"Normal\",\"Normal\",\"Normal\",\"Normal\",\"Normal\",\"Normal\",\"Obeso\",\"Normal\",\"Sobrepeso\",\"Peso Normal\",\"Peso Normal\",\"Peso Normal\",\"Normal\",\"Normal\",\"Normal\",\"Normal\",\"Normal\",\"Normal\",\"Normal\",\"Normal\",\"Normal\",\"Normal\",\"Peso Normal\",\"Peso Normal\",\"Normal\",\"Normal\",\"Normal\",\"Peso Normal\",\"Sobrepeso\",\"Sobrepeso\",\"Normal\",\"Normal\",\"Normal\",\"Normal\",\"Normal\",\"Normal\",\"Normal\",\"Normal\",\"Sobrepeso\",\"Normal\",\"Normal\",\"Normal\",\"Normal\",\"Normal\",\"Normal\",\"Sobrepeso\",\"Sobrepeso\",\"Sobrepeso\",\"Sobrepeso\",\"Sobrepeso\",\"Sobrepeso\",\"Sobrepeso\",\"Sobrepeso\",\"Sobrepeso\",\"Sobrepeso\",\"Sobrepeso\",\"Sobrepeso\",\"Sobrepeso\",\"Sobrepeso\",\"Sobrepeso\",\"Sobrepeso\",\"Sobrepeso\",\"Normal\",\"Normal\",\"Peso Normal\",\"Sobrepeso\",\"Normal\",\"Normal\",\"Normal\",\"Normal\",\"Normal\",\"Normal\",\"Normal\",\"Normal\",\"Normal\",\"Normal\",\"Normal\",\"Normal\",\"Normal\",\"Normal\",\"Sobrepeso\",\"Sobrepeso\",\"Sobrepeso\",\"Sobrepeso\",\"Sobrepeso\",\"Sobrepeso\",\"Sobrepeso\",\"Sobrepeso\",\"Sobrepeso\",\"Sobrepeso\",\"Sobrepeso\",\"Sobrepeso\",\"Sobrepeso\",\"Sobrepeso\",\"Sobrepeso\",\"Sobrepeso\",\"Sobrepeso\",\"Sobrepeso\",\"Sobrepeso\",\"Sobrepeso\",\"Sobrepeso\",\"Sobrepeso\",\"Sobrepeso\",\"Sobrepeso\",\"Sobrepeso\",\"Sobrepeso\",\"Sobrepeso\",\"Sobrepeso\",\"Sobrepeso\",\"Sobrepeso\",\"Sobrepeso\",\"Sobrepeso\",\"Sobrepeso\",\"Sobrepeso\",\"Sobrepeso\",\"Sobrepeso\",\"Sobrepeso\",\"Sobrepeso\",\"Sobrepeso\",\"Sobrepeso\",\"Sobrepeso\",\"Sobrepeso\",\"Sobrepeso\",\"Sobrepeso\",\"Sobrepeso\",\"Obeso\",\"Sobrepeso\",\"Obeso\",\"Sobrepeso\",\"Sobrepeso\",\"Sobrepeso\",\"Sobrepeso\",\"Sobrepeso\",\"Sobrepeso\",\"Sobrepeso\",\"Sobrepeso\",\"Sobrepeso\",\"Obeso\",\"Obeso\",\"Sobrepeso\",\"Normal\",\"Sobrepeso\",\"Sobrepeso\",\"Sobrepeso\",\"Sobrepeso\",\"Sobrepeso\",\"Sobrepeso\",\"Sobrepeso\",\"Sobrepeso\",\"Sobrepeso\",\"Sobrepeso\",\"Sobrepeso\",\"Sobrepeso\",\"Sobrepeso\",\"Sobrepeso\",\"Sobrepeso\",\"Sobrepeso\",\"Sobrepeso\",\"Sobrepeso\",\"Normal\",\"Normal\",\"Normal\",\"Normal\",\"Peso Normal\",\"Sobrepeso\",\"Sobrepeso\",\"Sobrepeso\",\"Sobrepeso\",\"Sobrepeso\",\"Sobrepeso\",\"Sobrepeso\",\"Sobrepeso\",\"Sobrepeso\",\"Normal\",\"Normal\",\"Normal\",\"Normal\",\"Normal\",\"Normal\",\"Normal\",\"Normal\",\"Normal\",\"Normal\",\"Normal\",\"Normal\",\"Normal\",\"Normal\",\"Normal\",\"Normal\",\"Normal\",\"Normal\",\"Normal\",\"Normal\",\"Normal\",\"Normal\",\"Normal\",\"Normal\",\"Normal\",\"Normal\",\"Normal\",\"Sobrepeso\",\"Sobrepeso\",\"Peso Normal\",\"Peso Normal\",\"Sobrepeso\",\"Sobrepeso\",\"Sobrepeso\",\"Sobrepeso\",\"Sobrepeso\",\"Sobrepeso\",\"Sobrepeso\",\"Sobrepeso\",\"Sobrepeso\",\"Sobrepeso\",\"Sobrepeso\",\"Sobrepeso\",\"Sobrepeso\",\"Sobrepeso\",\"Sobrepeso\",\"Sobrepeso\",\"Sobrepeso\",\"Sobrepeso\",\"Sobrepeso\",\"Sobrepeso\",\"Sobrepeso\",\"Sobrepeso\",\"Sobrepeso\",\"Sobrepeso\",\"Sobrepeso\",\"Sobrepeso\",\"Sobrepeso\",\"Sobrepeso\",\"Sobrepeso\",\"Sobrepeso\",\"Sobrepeso\"],\"y0\":\" \",\"yaxis\":\"y\",\"type\":\"violin\"}],                        {\"template\":{\"data\":{\"histogram2dcontour\":[{\"type\":\"histogram2dcontour\",\"colorbar\":{\"outlinewidth\":0,\"ticks\":\"\"},\"colorscale\":[[0.0,\"#0d0887\"],[0.1111111111111111,\"#46039f\"],[0.2222222222222222,\"#7201a8\"],[0.3333333333333333,\"#9c179e\"],[0.4444444444444444,\"#bd3786\"],[0.5555555555555556,\"#d8576b\"],[0.6666666666666666,\"#ed7953\"],[0.7777777777777778,\"#fb9f3a\"],[0.8888888888888888,\"#fdca26\"],[1.0,\"#f0f921\"]]}],\"choropleth\":[{\"type\":\"choropleth\",\"colorbar\":{\"outlinewidth\":0,\"ticks\":\"\"}}],\"histogram2d\":[{\"type\":\"histogram2d\",\"colorbar\":{\"outlinewidth\":0,\"ticks\":\"\"},\"colorscale\":[[0.0,\"#0d0887\"],[0.1111111111111111,\"#46039f\"],[0.2222222222222222,\"#7201a8\"],[0.3333333333333333,\"#9c179e\"],[0.4444444444444444,\"#bd3786\"],[0.5555555555555556,\"#d8576b\"],[0.6666666666666666,\"#ed7953\"],[0.7777777777777778,\"#fb9f3a\"],[0.8888888888888888,\"#fdca26\"],[1.0,\"#f0f921\"]]}],\"heatmap\":[{\"type\":\"heatmap\",\"colorbar\":{\"outlinewidth\":0,\"ticks\":\"\"},\"colorscale\":[[0.0,\"#0d0887\"],[0.1111111111111111,\"#46039f\"],[0.2222222222222222,\"#7201a8\"],[0.3333333333333333,\"#9c179e\"],[0.4444444444444444,\"#bd3786\"],[0.5555555555555556,\"#d8576b\"],[0.6666666666666666,\"#ed7953\"],[0.7777777777777778,\"#fb9f3a\"],[0.8888888888888888,\"#fdca26\"],[1.0,\"#f0f921\"]]}],\"heatmapgl\":[{\"type\":\"heatmapgl\",\"colorbar\":{\"outlinewidth\":0,\"ticks\":\"\"},\"colorscale\":[[0.0,\"#0d0887\"],[0.1111111111111111,\"#46039f\"],[0.2222222222222222,\"#7201a8\"],[0.3333333333333333,\"#9c179e\"],[0.4444444444444444,\"#bd3786\"],[0.5555555555555556,\"#d8576b\"],[0.6666666666666666,\"#ed7953\"],[0.7777777777777778,\"#fb9f3a\"],[0.8888888888888888,\"#fdca26\"],[1.0,\"#f0f921\"]]}],\"contourcarpet\":[{\"type\":\"contourcarpet\",\"colorbar\":{\"outlinewidth\":0,\"ticks\":\"\"}}],\"contour\":[{\"type\":\"contour\",\"colorbar\":{\"outlinewidth\":0,\"ticks\":\"\"},\"colorscale\":[[0.0,\"#0d0887\"],[0.1111111111111111,\"#46039f\"],[0.2222222222222222,\"#7201a8\"],[0.3333333333333333,\"#9c179e\"],[0.4444444444444444,\"#bd3786\"],[0.5555555555555556,\"#d8576b\"],[0.6666666666666666,\"#ed7953\"],[0.7777777777777778,\"#fb9f3a\"],[0.8888888888888888,\"#fdca26\"],[1.0,\"#f0f921\"]]}],\"surface\":[{\"type\":\"surface\",\"colorbar\":{\"outlinewidth\":0,\"ticks\":\"\"},\"colorscale\":[[0.0,\"#0d0887\"],[0.1111111111111111,\"#46039f\"],[0.2222222222222222,\"#7201a8\"],[0.3333333333333333,\"#9c179e\"],[0.4444444444444444,\"#bd3786\"],[0.5555555555555556,\"#d8576b\"],[0.6666666666666666,\"#ed7953\"],[0.7777777777777778,\"#fb9f3a\"],[0.8888888888888888,\"#fdca26\"],[1.0,\"#f0f921\"]]}],\"mesh3d\":[{\"type\":\"mesh3d\",\"colorbar\":{\"outlinewidth\":0,\"ticks\":\"\"}}],\"scatter\":[{\"fillpattern\":{\"fillmode\":\"overlay\",\"size\":10,\"solidity\":0.2},\"type\":\"scatter\"}],\"parcoords\":[{\"type\":\"parcoords\",\"line\":{\"colorbar\":{\"outlinewidth\":0,\"ticks\":\"\"}}}],\"scatterpolargl\":[{\"type\":\"scatterpolargl\",\"marker\":{\"colorbar\":{\"outlinewidth\":0,\"ticks\":\"\"}}}],\"bar\":[{\"error_x\":{\"color\":\"#2a3f5f\"},\"error_y\":{\"color\":\"#2a3f5f\"},\"marker\":{\"line\":{\"color\":\"#E5ECF6\",\"width\":0.5},\"pattern\":{\"fillmode\":\"overlay\",\"size\":10,\"solidity\":0.2}},\"type\":\"bar\"}],\"scattergeo\":[{\"type\":\"scattergeo\",\"marker\":{\"colorbar\":{\"outlinewidth\":0,\"ticks\":\"\"}}}],\"scatterpolar\":[{\"type\":\"scatterpolar\",\"marker\":{\"colorbar\":{\"outlinewidth\":0,\"ticks\":\"\"}}}],\"histogram\":[{\"marker\":{\"pattern\":{\"fillmode\":\"overlay\",\"size\":10,\"solidity\":0.2}},\"type\":\"histogram\"}],\"scattergl\":[{\"type\":\"scattergl\",\"marker\":{\"colorbar\":{\"outlinewidth\":0,\"ticks\":\"\"}}}],\"scatter3d\":[{\"type\":\"scatter3d\",\"line\":{\"colorbar\":{\"outlinewidth\":0,\"ticks\":\"\"}},\"marker\":{\"colorbar\":{\"outlinewidth\":0,\"ticks\":\"\"}}}],\"scattermapbox\":[{\"type\":\"scattermapbox\",\"marker\":{\"colorbar\":{\"outlinewidth\":0,\"ticks\":\"\"}}}],\"scatterternary\":[{\"type\":\"scatterternary\",\"marker\":{\"colorbar\":{\"outlinewidth\":0,\"ticks\":\"\"}}}],\"scattercarpet\":[{\"type\":\"scattercarpet\",\"marker\":{\"colorbar\":{\"outlinewidth\":0,\"ticks\":\"\"}}}],\"carpet\":[{\"aaxis\":{\"endlinecolor\":\"#2a3f5f\",\"gridcolor\":\"white\",\"linecolor\":\"white\",\"minorgridcolor\":\"white\",\"startlinecolor\":\"#2a3f5f\"},\"baxis\":{\"endlinecolor\":\"#2a3f5f\",\"gridcolor\":\"white\",\"linecolor\":\"white\",\"minorgridcolor\":\"white\",\"startlinecolor\":\"#2a3f5f\"},\"type\":\"carpet\"}],\"table\":[{\"cells\":{\"fill\":{\"color\":\"#EBF0F8\"},\"line\":{\"color\":\"white\"}},\"header\":{\"fill\":{\"color\":\"#C8D4E3\"},\"line\":{\"color\":\"white\"}},\"type\":\"table\"}],\"barpolar\":[{\"marker\":{\"line\":{\"color\":\"#E5ECF6\",\"width\":0.5},\"pattern\":{\"fillmode\":\"overlay\",\"size\":10,\"solidity\":0.2}},\"type\":\"barpolar\"}],\"pie\":[{\"automargin\":true,\"type\":\"pie\"}]},\"layout\":{\"autotypenumbers\":\"strict\",\"colorway\":[\"#636efa\",\"#EF553B\",\"#00cc96\",\"#ab63fa\",\"#FFA15A\",\"#19d3f3\",\"#FF6692\",\"#B6E880\",\"#FF97FF\",\"#FECB52\"],\"font\":{\"color\":\"#2a3f5f\"},\"hovermode\":\"closest\",\"hoverlabel\":{\"align\":\"left\"},\"paper_bgcolor\":\"white\",\"plot_bgcolor\":\"#E5ECF6\",\"polar\":{\"bgcolor\":\"#E5ECF6\",\"angularaxis\":{\"gridcolor\":\"white\",\"linecolor\":\"white\",\"ticks\":\"\"},\"radialaxis\":{\"gridcolor\":\"white\",\"linecolor\":\"white\",\"ticks\":\"\"}},\"ternary\":{\"bgcolor\":\"#E5ECF6\",\"aaxis\":{\"gridcolor\":\"white\",\"linecolor\":\"white\",\"ticks\":\"\"},\"baxis\":{\"gridcolor\":\"white\",\"linecolor\":\"white\",\"ticks\":\"\"},\"caxis\":{\"gridcolor\":\"white\",\"linecolor\":\"white\",\"ticks\":\"\"}},\"coloraxis\":{\"colorbar\":{\"outlinewidth\":0,\"ticks\":\"\"}},\"colorscale\":{\"sequential\":[[0.0,\"#0d0887\"],[0.1111111111111111,\"#46039f\"],[0.2222222222222222,\"#7201a8\"],[0.3333333333333333,\"#9c179e\"],[0.4444444444444444,\"#bd3786\"],[0.5555555555555556,\"#d8576b\"],[0.6666666666666666,\"#ed7953\"],[0.7777777777777778,\"#fb9f3a\"],[0.8888888888888888,\"#fdca26\"],[1.0,\"#f0f921\"]],\"sequentialminus\":[[0.0,\"#0d0887\"],[0.1111111111111111,\"#46039f\"],[0.2222222222222222,\"#7201a8\"],[0.3333333333333333,\"#9c179e\"],[0.4444444444444444,\"#bd3786\"],[0.5555555555555556,\"#d8576b\"],[0.6666666666666666,\"#ed7953\"],[0.7777777777777778,\"#fb9f3a\"],[0.8888888888888888,\"#fdca26\"],[1.0,\"#f0f921\"]],\"diverging\":[[0,\"#8e0152\"],[0.1,\"#c51b7d\"],[0.2,\"#de77ae\"],[0.3,\"#f1b6da\"],[0.4,\"#fde0ef\"],[0.5,\"#f7f7f7\"],[0.6,\"#e6f5d0\"],[0.7,\"#b8e186\"],[0.8,\"#7fbc41\"],[0.9,\"#4d9221\"],[1,\"#276419\"]]},\"xaxis\":{\"gridcolor\":\"white\",\"linecolor\":\"white\",\"ticks\":\"\",\"title\":{\"standoff\":15},\"zerolinecolor\":\"white\",\"automargin\":true,\"zerolinewidth\":2},\"yaxis\":{\"gridcolor\":\"white\",\"linecolor\":\"white\",\"ticks\":\"\",\"title\":{\"standoff\":15},\"zerolinecolor\":\"white\",\"automargin\":true,\"zerolinewidth\":2},\"scene\":{\"xaxis\":{\"backgroundcolor\":\"#E5ECF6\",\"gridcolor\":\"white\",\"linecolor\":\"white\",\"showbackground\":true,\"ticks\":\"\",\"zerolinecolor\":\"white\",\"gridwidth\":2},\"yaxis\":{\"backgroundcolor\":\"#E5ECF6\",\"gridcolor\":\"white\",\"linecolor\":\"white\",\"showbackground\":true,\"ticks\":\"\",\"zerolinecolor\":\"white\",\"gridwidth\":2},\"zaxis\":{\"backgroundcolor\":\"#E5ECF6\",\"gridcolor\":\"white\",\"linecolor\":\"white\",\"showbackground\":true,\"ticks\":\"\",\"zerolinecolor\":\"white\",\"gridwidth\":2}},\"shapedefaults\":{\"line\":{\"color\":\"#2a3f5f\"}},\"annotationdefaults\":{\"arrowcolor\":\"#2a3f5f\",\"arrowhead\":0,\"arrowwidth\":1},\"geo\":{\"bgcolor\":\"white\",\"landcolor\":\"#E5ECF6\",\"subunitcolor\":\"white\",\"showland\":true,\"showlakes\":true,\"lakecolor\":\"white\"},\"title\":{\"x\":0.05},\"mapbox\":{\"style\":\"light\"}}},\"xaxis\":{\"anchor\":\"y\",\"domain\":[0.0,1.0],\"title\":{\"text\":\"Dist\\u00farbio do sono\"}},\"yaxis\":{\"anchor\":\"x\",\"domain\":[0.0,1.0],\"title\":{\"text\":\"IMC\"}},\"legend\":{\"tracegroupgap\":0},\"title\":{\"text\":\"IMC por Dist\\u00farbio\"},\"violinmode\":\"group\",\"font\":{\"size\":16},\"plot_bgcolor\":\"white\"},                        {\"responsive\": true}                    ).then(function(){\n",
       "                            \n",
       "var gd = document.getElementById('a577cd49-5cc8-418d-b30e-aa6b84257666');\n",
       "var x = new MutationObserver(function (mutations, observer) {{\n",
       "        var display = window.getComputedStyle(gd).display;\n",
       "        if (!display || display === 'none') {{\n",
       "            console.log([gd, 'removed!']);\n",
       "            Plotly.purge(gd);\n",
       "            observer.disconnect();\n",
       "        }}\n",
       "}});\n",
       "\n",
       "// Listen for the removal of the full notebook cells\n",
       "var notebookContainer = gd.closest('#notebook-container');\n",
       "if (notebookContainer) {{\n",
       "    x.observe(notebookContainer, {childList: true});\n",
       "}}\n",
       "\n",
       "// Listen for the clearing of the current output cell\n",
       "var outputEl = gd.closest('.output');\n",
       "if (outputEl) {{\n",
       "    x.observe(outputEl, {childList: true});\n",
       "}}\n",
       "\n",
       "                        })                };                });            </script>        </div>"
      ]
     },
     "metadata": {},
     "output_type": "display_data"
    }
   ],
   "source": [
    "translation = {\n",
    "    'Overweight': 'Sobrepeso',\n",
    "    'Normal': 'Normal',\n",
    "    'Obese': 'Obeso',\n",
    "    'Normal Weight': 'Peso Normal'\n",
    "}\n",
    "\n",
    "df['bmi_category'] = df['bmi_category'].replace(translation)\n",
    "\n",
    "\n",
    "\n",
    "import plotly.express as px\n",
    "\n",
    "fig = px.violin(df, x=\"sleep_disorder\", y=\"bmi_category\",\n",
    "                title=\"IMC por Distúrbio\")\n",
    "\n",
    "# Update font size\n",
    "fig.update_layout(\n",
    "    font=dict(size=16)  # Set the desired font size\n",
    ")\n",
    "\n",
    "# Update axis titles\n",
    "fig.update_xaxes(title_text=\"Distúrbio do sono\")\n",
    "fig.update_yaxes(title_text=\"IMC\")\n",
    "\n",
    "# Set chart background to white\n",
    "fig.update_layout(\n",
    "    plot_bgcolor=\"white\"\n",
    ")\n",
    "\n",
    "fig.show()\n"
   ]
  },
  {
   "cell_type": "code",
   "execution_count": null,
   "metadata": {},
   "outputs": [],
   "source": []
  }
 ],
 "metadata": {
  "kernelspec": {
   "display_name": "PM1",
   "language": "python",
   "name": "python3"
  },
  "language_info": {
   "codemirror_mode": {
    "name": "ipython",
    "version": 3
   },
   "file_extension": ".py",
   "mimetype": "text/x-python",
   "name": "python",
   "nbconvert_exporter": "python",
   "pygments_lexer": "ipython3",
   "version": "3.10.8"
  },
  "orig_nbformat": 4
 },
 "nbformat": 4,
 "nbformat_minor": 2
}
