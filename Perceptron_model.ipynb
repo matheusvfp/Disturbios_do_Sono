{
 "cells": [
  {
   "cell_type": "markdown",
   "metadata": {},
   "source": [
    "1. Importando bibliotecas"
   ]
  },
  {
   "cell_type": "code",
   "execution_count": 141,
   "metadata": {},
   "outputs": [],
   "source": [
    "import numpy as np\n",
    "import pandas as pd\n",
    "import matplotlib.pyplot as plt\n",
    "import tensorflow as tf\n",
    "from sklearn.model_selection import train_test_split\n",
    "from sklearn.preprocessing import StandardScaler\n",
    "import seaborn as sns\n",
    "from imblearn.over_sampling import SMOTE\n",
    "from tensorflow.keras.callbacks import EarlyStopping\n",
    "\n"
   ]
  },
  {
   "cell_type": "markdown",
   "metadata": {},
   "source": [
    "2. Carregando Dataset"
   ]
  },
  {
   "cell_type": "code",
   "execution_count": 142,
   "metadata": {},
   "outputs": [
    {
     "data": {
      "text/html": [
       "<div>\n",
       "<style scoped>\n",
       "    .dataframe tbody tr th:only-of-type {\n",
       "        vertical-align: middle;\n",
       "    }\n",
       "\n",
       "    .dataframe tbody tr th {\n",
       "        vertical-align: top;\n",
       "    }\n",
       "\n",
       "    .dataframe thead th {\n",
       "        text-align: right;\n",
       "    }\n",
       "</style>\n",
       "<table border=\"1\" class=\"dataframe\">\n",
       "  <thead>\n",
       "    <tr style=\"text-align: right;\">\n",
       "      <th></th>\n",
       "      <th>Person ID</th>\n",
       "      <th>Gender</th>\n",
       "      <th>Age</th>\n",
       "      <th>Occupation</th>\n",
       "      <th>Sleep Duration</th>\n",
       "      <th>Quality of Sleep</th>\n",
       "      <th>Physical Activity Level</th>\n",
       "      <th>Stress Level</th>\n",
       "      <th>BMI Category</th>\n",
       "      <th>Blood Pressure</th>\n",
       "      <th>Heart Rate</th>\n",
       "      <th>Daily Steps</th>\n",
       "      <th>Sleep Disorder</th>\n",
       "    </tr>\n",
       "  </thead>\n",
       "  <tbody>\n",
       "    <tr>\n",
       "      <th>0</th>\n",
       "      <td>1</td>\n",
       "      <td>Male</td>\n",
       "      <td>27</td>\n",
       "      <td>Software Engineer</td>\n",
       "      <td>6.1</td>\n",
       "      <td>6</td>\n",
       "      <td>42</td>\n",
       "      <td>6</td>\n",
       "      <td>Overweight</td>\n",
       "      <td>126/83</td>\n",
       "      <td>77</td>\n",
       "      <td>4200</td>\n",
       "      <td>NaN</td>\n",
       "    </tr>\n",
       "    <tr>\n",
       "      <th>1</th>\n",
       "      <td>2</td>\n",
       "      <td>Male</td>\n",
       "      <td>28</td>\n",
       "      <td>Doctor</td>\n",
       "      <td>6.2</td>\n",
       "      <td>6</td>\n",
       "      <td>60</td>\n",
       "      <td>8</td>\n",
       "      <td>Normal</td>\n",
       "      <td>125/80</td>\n",
       "      <td>75</td>\n",
       "      <td>10000</td>\n",
       "      <td>NaN</td>\n",
       "    </tr>\n",
       "    <tr>\n",
       "      <th>2</th>\n",
       "      <td>3</td>\n",
       "      <td>Male</td>\n",
       "      <td>28</td>\n",
       "      <td>Doctor</td>\n",
       "      <td>6.2</td>\n",
       "      <td>6</td>\n",
       "      <td>60</td>\n",
       "      <td>8</td>\n",
       "      <td>Normal</td>\n",
       "      <td>125/80</td>\n",
       "      <td>75</td>\n",
       "      <td>10000</td>\n",
       "      <td>NaN</td>\n",
       "    </tr>\n",
       "    <tr>\n",
       "      <th>3</th>\n",
       "      <td>4</td>\n",
       "      <td>Male</td>\n",
       "      <td>28</td>\n",
       "      <td>Sales Representative</td>\n",
       "      <td>5.9</td>\n",
       "      <td>4</td>\n",
       "      <td>30</td>\n",
       "      <td>8</td>\n",
       "      <td>Obese</td>\n",
       "      <td>140/90</td>\n",
       "      <td>85</td>\n",
       "      <td>3000</td>\n",
       "      <td>Sleep Apnea</td>\n",
       "    </tr>\n",
       "    <tr>\n",
       "      <th>4</th>\n",
       "      <td>5</td>\n",
       "      <td>Male</td>\n",
       "      <td>28</td>\n",
       "      <td>Sales Representative</td>\n",
       "      <td>5.9</td>\n",
       "      <td>4</td>\n",
       "      <td>30</td>\n",
       "      <td>8</td>\n",
       "      <td>Obese</td>\n",
       "      <td>140/90</td>\n",
       "      <td>85</td>\n",
       "      <td>3000</td>\n",
       "      <td>Sleep Apnea</td>\n",
       "    </tr>\n",
       "  </tbody>\n",
       "</table>\n",
       "</div>"
      ],
      "text/plain": [
       "   Person ID Gender  Age            Occupation  Sleep Duration  \\\n",
       "0          1   Male   27     Software Engineer             6.1   \n",
       "1          2   Male   28                Doctor             6.2   \n",
       "2          3   Male   28                Doctor             6.2   \n",
       "3          4   Male   28  Sales Representative             5.9   \n",
       "4          5   Male   28  Sales Representative             5.9   \n",
       "\n",
       "   Quality of Sleep  Physical Activity Level  Stress Level BMI Category  \\\n",
       "0                 6                       42             6   Overweight   \n",
       "1                 6                       60             8       Normal   \n",
       "2                 6                       60             8       Normal   \n",
       "3                 4                       30             8        Obese   \n",
       "4                 4                       30             8        Obese   \n",
       "\n",
       "  Blood Pressure  Heart Rate  Daily Steps Sleep Disorder  \n",
       "0         126/83          77         4200            NaN  \n",
       "1         125/80          75        10000            NaN  \n",
       "2         125/80          75        10000            NaN  \n",
       "3         140/90          85         3000    Sleep Apnea  \n",
       "4         140/90          85         3000    Sleep Apnea  "
      ]
     },
     "execution_count": 142,
     "metadata": {},
     "output_type": "execute_result"
    }
   ],
   "source": [
    "\n",
    "df = pd.read_csv('Sleep_health_and_lifestyle_dataset.csv', sep=',')\n",
    "df.head()\n"
   ]
  },
  {
   "cell_type": "code",
   "execution_count": 143,
   "metadata": {},
   "outputs": [
    {
     "data": {
      "text/plain": [
       "array(['Software Engineer', 'Doctor', 'Sales Representative', 'Teacher',\n",
       "       'Nurse', 'Engineer', 'Accountant', 'Scientist', 'Lawyer',\n",
       "       'Salesperson', 'Manager'], dtype=object)"
      ]
     },
     "execution_count": 143,
     "metadata": {},
     "output_type": "execute_result"
    }
   ],
   "source": [
    "df['Occupation'].unique()"
   ]
  },
  {
   "cell_type": "markdown",
   "metadata": {},
   "source": [
    "2.1 Convertendo Dataset\n"
   ]
  },
  {
   "cell_type": "code",
   "execution_count": 144,
   "metadata": {},
   "outputs": [],
   "source": [
    "df['Gender'] = df['Gender'].astype(\"category\").cat.codes.values\n",
    "df['Occupation'] = df['Occupation'].astype(\"category\").cat.codes.values\n",
    "df['BMI Category'] = df['BMI Category'].astype(\"category\").cat.codes.values\n",
    "df['Blood Pressure'] = df['Blood Pressure'].astype(\"category\").cat.codes.values"
   ]
  },
  {
   "cell_type": "code",
   "execution_count": 145,
   "metadata": {},
   "outputs": [
    {
     "name": "stdout",
     "output_type": "stream",
     "text": [
      "<class 'pandas.core.frame.DataFrame'>\n",
      "RangeIndex: 374 entries, 0 to 373\n",
      "Data columns (total 13 columns):\n",
      " #   Column                   Non-Null Count  Dtype  \n",
      "---  ------                   --------------  -----  \n",
      " 0   Person ID                374 non-null    int64  \n",
      " 1   Gender                   374 non-null    int8   \n",
      " 2   Age                      374 non-null    int64  \n",
      " 3   Occupation               374 non-null    int8   \n",
      " 4   Sleep Duration           374 non-null    float64\n",
      " 5   Quality of Sleep         374 non-null    int64  \n",
      " 6   Physical Activity Level  374 non-null    int64  \n",
      " 7   Stress Level             374 non-null    int64  \n",
      " 8   BMI Category             374 non-null    int8   \n",
      " 9   Blood Pressure           374 non-null    int8   \n",
      " 10  Heart Rate               374 non-null    int64  \n",
      " 11  Daily Steps              374 non-null    int64  \n",
      " 12  Sleep Disorder           155 non-null    object \n",
      "dtypes: float64(1), int64(7), int8(4), object(1)\n",
      "memory usage: 27.9+ KB\n"
     ]
    }
   ],
   "source": [
    "df.info()"
   ]
  },
  {
   "cell_type": "markdown",
   "metadata": {},
   "source": [
    "2.2 Trocar Valor no Dataset"
   ]
  },
  {
   "cell_type": "code",
   "execution_count": 146,
   "metadata": {},
   "outputs": [],
   "source": [
    "df['Sleep Disorder'] = df['Sleep Disorder'].fillna('sem disturbio')\n",
    "classes = df['Sleep Disorder'].unique()\n",
    "#print(classes)"
   ]
  },
  {
   "cell_type": "code",
   "execution_count": 147,
   "metadata": {},
   "outputs": [
    {
     "data": {
      "text/plain": [
       "Sleep Disorder\n",
       "sem disturbio    219\n",
       "Sleep Apnea       78\n",
       "Insomnia          77\n",
       "Name: count, dtype: int64"
      ]
     },
     "execution_count": 147,
     "metadata": {},
     "output_type": "execute_result"
    }
   ],
   "source": [
    "df['Sleep Disorder'].value_counts()\n"
   ]
  },
  {
   "cell_type": "markdown",
   "metadata": {},
   "source": [
    "2.3 Dividindo Dataset "
   ]
  },
  {
   "cell_type": "code",
   "execution_count": 148,
   "metadata": {},
   "outputs": [],
   "source": [
    "X = df.iloc[:, 1:12].values \n",
    "y = df['Sleep Disorder'].values\n",
    "\n",
    "#print(X)\n",
    "#print(y)"
   ]
  },
  {
   "cell_type": "markdown",
   "metadata": {},
   "source": [
    "2.4 Equilibrar Dataset"
   ]
  },
  {
   "cell_type": "code",
   "execution_count": 149,
   "metadata": {},
   "outputs": [],
   "source": [
    "sm = SMOTE(random_state=42,k_neighbors=5)\n",
    "dataset_res, ouput_label= sm.fit_resample(X,y)\n"
   ]
  },
  {
   "cell_type": "markdown",
   "metadata": {},
   "source": [
    "2.5 Separando Dataset entre treino e teste"
   ]
  },
  {
   "cell_type": "code",
   "execution_count": 150,
   "metadata": {},
   "outputs": [],
   "source": [
    "X_train, X_test, y_train, y_test = train_test_split(dataset_res, ouput_label, test_size=0.2)\n",
    "\n",
    "sc = StandardScaler()\n",
    "sc.fit(X_train)\n",
    "X_train_std = sc.fit_transform(X_train)\n",
    "X_test_std = sc.transform(X_test)\n",
    "\n",
    "y_train_onehot = pd.get_dummies(y_train).values\n",
    "y_test_onehot = pd.get_dummies(y_test).values\n",
    "#print(y_train)"
   ]
  },
  {
   "cell_type": "code",
   "execution_count": 151,
   "metadata": {},
   "outputs": [],
   "source": [
    "early_stopping = EarlyStopping(monitor='val_loss',patience=10, mode='min',restore_best_weights=True)"
   ]
  },
  {
   "cell_type": "markdown",
   "metadata": {},
   "source": [
    "3. Criando o modelo"
   ]
  },
  {
   "cell_type": "code",
   "execution_count": 152,
   "metadata": {},
   "outputs": [],
   "source": [
    "# Modelo de rede perceptron multicamadas com uma camada oculta de 64 neurônios\n",
    "# e camada de saída com 3 neurônios (3 classes)\n",
    "model = tf.keras.models.Sequential()\n",
    "model.add(tf.keras.layers.Dense(32, input_dim=11, activation='sigmoid', name='oculta'))\n",
    "model.add(tf.keras.layers.Dense(32, activation='sigmoid',name='oculta2'))\n",
    "model.add(tf.keras.layers.Dropout(0.1))\n",
    "model.add(tf.keras.layers.Dense(3, activation='softmax', name='saida'))\n",
    "#model.summary() #visualizando o modelo"
   ]
  },
  {
   "cell_type": "markdown",
   "metadata": {},
   "source": [
    "4. Compilando e treinando o modelo\n"
   ]
  },
  {
   "cell_type": "code",
   "execution_count": 153,
   "metadata": {},
   "outputs": [],
   "source": [
    "# Compile model\n",
    "# Otimizador Adam com taxa de aprendizado de 0.01\n",
    "opt = tf.keras.optimizers.Adam(learning_rate=0.01)\n",
    "# Função de custo categorical_crossentropy (para problemas de classificação com mais de duas classes)\n",
    "# Métrica de avaliação MSE (Mean Squared Error)\n",
    "model.compile(loss='categorical_crossentropy', optimizer=opt, metrics=['mse'])"
   ]
  },
  {
   "cell_type": "code",
   "execution_count": 154,
   "metadata": {},
   "outputs": [
    {
     "name": "stdout",
     "output_type": "stream",
     "text": [
      "Epoch 1/100\n"
     ]
    },
    {
     "name": "stdout",
     "output_type": "stream",
     "text": [
      "14/14 [==============================] - 2s 34ms/step - loss: 1.1151 - mse: 0.2230 - val_loss: 0.9489 - val_mse: 0.1882\n",
      "Epoch 2/100\n",
      "14/14 [==============================] - 0s 10ms/step - loss: 0.8787 - mse: 0.1712 - val_loss: 0.6659 - val_mse: 0.1215\n",
      "Epoch 3/100\n",
      "14/14 [==============================] - 0s 9ms/step - loss: 0.6356 - mse: 0.1134 - val_loss: 0.4384 - val_mse: 0.0717\n",
      "Epoch 4/100\n",
      "14/14 [==============================] - 0s 9ms/step - loss: 0.5268 - mse: 0.0887 - val_loss: 0.3547 - val_mse: 0.0568\n",
      "Epoch 5/100\n",
      "14/14 [==============================] - 0s 10ms/step - loss: 0.4900 - mse: 0.0799 - val_loss: 0.3295 - val_mse: 0.0520\n",
      "Epoch 6/100\n",
      "14/14 [==============================] - 0s 9ms/step - loss: 0.4565 - mse: 0.0749 - val_loss: 0.3215 - val_mse: 0.0497\n",
      "Epoch 7/100\n",
      "14/14 [==============================] - 0s 9ms/step - loss: 0.4541 - mse: 0.0727 - val_loss: 0.3131 - val_mse: 0.0483\n",
      "Epoch 8/100\n",
      "14/14 [==============================] - 0s 17ms/step - loss: 0.4075 - mse: 0.0662 - val_loss: 0.3055 - val_mse: 0.0469\n",
      "Epoch 9/100\n",
      "14/14 [==============================] - 0s 11ms/step - loss: 0.3955 - mse: 0.0642 - val_loss: 0.2958 - val_mse: 0.0451\n",
      "Epoch 10/100\n",
      "14/14 [==============================] - 0s 9ms/step - loss: 0.3909 - mse: 0.0640 - val_loss: 0.2970 - val_mse: 0.0462\n",
      "Epoch 11/100\n",
      "14/14 [==============================] - 0s 10ms/step - loss: 0.4051 - mse: 0.0650 - val_loss: 0.2976 - val_mse: 0.0462\n",
      "Epoch 12/100\n",
      "14/14 [==============================] - 0s 17ms/step - loss: 0.3724 - mse: 0.0610 - val_loss: 0.2976 - val_mse: 0.0462\n",
      "Epoch 13/100\n",
      "14/14 [==============================] - 0s 17ms/step - loss: 0.3845 - mse: 0.0625 - val_loss: 0.3000 - val_mse: 0.0476\n",
      "Epoch 14/100\n",
      "14/14 [==============================] - 0s 9ms/step - loss: 0.3580 - mse: 0.0586 - val_loss: 0.2966 - val_mse: 0.0472\n",
      "Epoch 15/100\n",
      "14/14 [==============================] - 0s 14ms/step - loss: 0.3574 - mse: 0.0581 - val_loss: 0.2864 - val_mse: 0.0441\n",
      "Epoch 16/100\n",
      "14/14 [==============================] - 0s 10ms/step - loss: 0.3521 - mse: 0.0572 - val_loss: 0.2896 - val_mse: 0.0468\n",
      "Epoch 17/100\n",
      "14/14 [==============================] - 0s 8ms/step - loss: 0.3452 - mse: 0.0577 - val_loss: 0.2807 - val_mse: 0.0442\n",
      "Epoch 18/100\n",
      "14/14 [==============================] - 0s 12ms/step - loss: 0.3488 - mse: 0.0566 - val_loss: 0.2777 - val_mse: 0.0429\n",
      "Epoch 19/100\n",
      "14/14 [==============================] - 0s 17ms/step - loss: 0.3459 - mse: 0.0565 - val_loss: 0.2849 - val_mse: 0.0443\n",
      "Epoch 20/100\n",
      "14/14 [==============================] - 0s 18ms/step - loss: 0.3331 - mse: 0.0546 - val_loss: 0.2738 - val_mse: 0.0418\n",
      "Epoch 21/100\n",
      "14/14 [==============================] - 0s 17ms/step - loss: 0.3361 - mse: 0.0560 - val_loss: 0.2795 - val_mse: 0.0455\n",
      "Epoch 22/100\n",
      "14/14 [==============================] - 0s 17ms/step - loss: 0.3248 - mse: 0.0537 - val_loss: 0.2760 - val_mse: 0.0418\n",
      "Epoch 23/100\n",
      "14/14 [==============================] - 0s 8ms/step - loss: 0.3224 - mse: 0.0528 - val_loss: 0.2801 - val_mse: 0.0424\n",
      "Epoch 24/100\n",
      "14/14 [==============================] - 0s 8ms/step - loss: 0.3007 - mse: 0.0496 - val_loss: 0.2703 - val_mse: 0.0407\n",
      "Epoch 25/100\n",
      "14/14 [==============================] - 0s 8ms/step - loss: 0.3110 - mse: 0.0511 - val_loss: 0.2790 - val_mse: 0.0432\n",
      "Epoch 26/100\n",
      "14/14 [==============================] - 0s 8ms/step - loss: 0.3090 - mse: 0.0493 - val_loss: 0.2684 - val_mse: 0.0413\n",
      "Epoch 27/100\n",
      "14/14 [==============================] - 0s 8ms/step - loss: 0.2933 - mse: 0.0479 - val_loss: 0.2713 - val_mse: 0.0416\n",
      "Epoch 28/100\n",
      "14/14 [==============================] - 0s 8ms/step - loss: 0.3155 - mse: 0.0494 - val_loss: 0.2726 - val_mse: 0.0414\n",
      "Epoch 29/100\n",
      "14/14 [==============================] - 0s 8ms/step - loss: 0.3073 - mse: 0.0490 - val_loss: 0.2787 - val_mse: 0.0430\n",
      "Epoch 30/100\n",
      "14/14 [==============================] - 0s 8ms/step - loss: 0.3146 - mse: 0.0494 - val_loss: 0.2763 - val_mse: 0.0434\n",
      "Epoch 31/100\n",
      "14/14 [==============================] - 0s 8ms/step - loss: 0.2976 - mse: 0.0481 - val_loss: 0.2718 - val_mse: 0.0404\n",
      "Epoch 32/100\n",
      "14/14 [==============================] - 0s 8ms/step - loss: 0.3027 - mse: 0.0484 - val_loss: 0.2729 - val_mse: 0.0421\n",
      "Epoch 33/100\n",
      "14/14 [==============================] - 0s 8ms/step - loss: 0.3045 - mse: 0.0515 - val_loss: 0.2792 - val_mse: 0.0408\n",
      "Epoch 34/100\n",
      "14/14 [==============================] - 0s 8ms/step - loss: 0.2967 - mse: 0.0485 - val_loss: 0.2922 - val_mse: 0.0445\n",
      "Epoch 35/100\n",
      "14/14 [==============================] - 0s 8ms/step - loss: 0.3234 - mse: 0.0523 - val_loss: 0.2988 - val_mse: 0.0463\n",
      "Epoch 36/100\n",
      "14/14 [==============================] - 0s 8ms/step - loss: 0.3111 - mse: 0.0511 - val_loss: 0.2700 - val_mse: 0.0390\n",
      "Epoch 37/100\n",
      "14/14 [==============================] - 0s 8ms/step - loss: 0.2866 - mse: 0.0459 - val_loss: 0.2786 - val_mse: 0.0426\n",
      "Epoch 38/100\n",
      "14/14 [==============================] - 0s 8ms/step - loss: 0.2830 - mse: 0.0454 - val_loss: 0.2603 - val_mse: 0.0367\n",
      "Epoch 39/100\n",
      "14/14 [==============================] - 0s 8ms/step - loss: 0.3025 - mse: 0.0503 - val_loss: 0.2704 - val_mse: 0.0396\n",
      "Epoch 40/100\n",
      "14/14 [==============================] - 0s 8ms/step - loss: 0.2936 - mse: 0.0467 - val_loss: 0.2657 - val_mse: 0.0390\n",
      "Epoch 41/100\n",
      "14/14 [==============================] - 0s 9ms/step - loss: 0.2943 - mse: 0.0476 - val_loss: 0.2799 - val_mse: 0.0434\n",
      "Epoch 42/100\n",
      "14/14 [==============================] - 0s 8ms/step - loss: 0.2871 - mse: 0.0465 - val_loss: 0.2690 - val_mse: 0.0386\n",
      "Epoch 43/100\n",
      "14/14 [==============================] - 0s 8ms/step - loss: 0.2920 - mse: 0.0468 - val_loss: 0.2717 - val_mse: 0.0404\n",
      "Epoch 44/100\n",
      "14/14 [==============================] - 0s 8ms/step - loss: 0.2860 - mse: 0.0464 - val_loss: 0.2803 - val_mse: 0.0426\n",
      "Epoch 45/100\n",
      "14/14 [==============================] - 0s 8ms/step - loss: 0.3105 - mse: 0.0500 - val_loss: 0.2805 - val_mse: 0.0388\n",
      "Epoch 46/100\n",
      "14/14 [==============================] - 0s 8ms/step - loss: 0.2947 - mse: 0.0471 - val_loss: 0.2895 - val_mse: 0.0461\n",
      "Epoch 47/100\n",
      "14/14 [==============================] - 0s 8ms/step - loss: 0.3001 - mse: 0.0530 - val_loss: 0.2723 - val_mse: 0.0388\n",
      "Epoch 48/100\n",
      "14/14 [==============================] - 0s 8ms/step - loss: 0.2823 - mse: 0.0451 - val_loss: 0.2778 - val_mse: 0.0404\n",
      "Epoch 49/100\n",
      "14/14 [==============================] - 0s 8ms/step - loss: 0.2804 - mse: 0.0453 - val_loss: 0.2763 - val_mse: 0.0418\n",
      "Epoch 50/100\n",
      "14/14 [==============================] - 0s 8ms/step - loss: 0.2882 - mse: 0.0468 - val_loss: 0.2713 - val_mse: 0.0398\n",
      "Epoch 51/100\n",
      "14/14 [==============================] - 0s 8ms/step - loss: 0.2967 - mse: 0.0476 - val_loss: 0.2718 - val_mse: 0.0397\n",
      "Epoch 52/100\n",
      "14/14 [==============================] - 0s 8ms/step - loss: 0.2637 - mse: 0.0432 - val_loss: 0.2729 - val_mse: 0.0405\n",
      "Epoch 53/100\n",
      "14/14 [==============================] - 0s 8ms/step - loss: 0.2876 - mse: 0.0455 - val_loss: 0.2822 - val_mse: 0.0402\n",
      "Epoch 54/100\n",
      "14/14 [==============================] - 0s 8ms/step - loss: 0.2875 - mse: 0.0471 - val_loss: 0.2839 - val_mse: 0.0414\n",
      "Epoch 55/100\n",
      "14/14 [==============================] - 0s 8ms/step - loss: 0.2903 - mse: 0.0455 - val_loss: 0.2765 - val_mse: 0.0399\n",
      "Epoch 56/100\n",
      "14/14 [==============================] - 0s 8ms/step - loss: 0.2793 - mse: 0.0453 - val_loss: 0.2795 - val_mse: 0.0410\n",
      "Epoch 57/100\n",
      "14/14 [==============================] - 0s 8ms/step - loss: 0.3254 - mse: 0.0536 - val_loss: 0.2903 - val_mse: 0.0441\n",
      "Epoch 58/100\n",
      "14/14 [==============================] - 0s 8ms/step - loss: 0.2983 - mse: 0.0472 - val_loss: 0.2824 - val_mse: 0.0417\n",
      "Epoch 59/100\n",
      "14/14 [==============================] - 0s 8ms/step - loss: 0.2997 - mse: 0.0475 - val_loss: 0.2895 - val_mse: 0.0412\n",
      "Epoch 60/100\n",
      "14/14 [==============================] - 0s 8ms/step - loss: 0.2822 - mse: 0.0450 - val_loss: 0.2797 - val_mse: 0.0400\n",
      "Epoch 61/100\n",
      "14/14 [==============================] - 0s 8ms/step - loss: 0.2624 - mse: 0.0431 - val_loss: 0.2699 - val_mse: 0.0377\n",
      "Epoch 62/100\n",
      "14/14 [==============================] - 0s 8ms/step - loss: 0.2846 - mse: 0.0459 - val_loss: 0.2796 - val_mse: 0.0424\n",
      "Epoch 63/100\n",
      "14/14 [==============================] - 0s 8ms/step - loss: 0.2694 - mse: 0.0448 - val_loss: 0.2778 - val_mse: 0.0394\n",
      "Epoch 64/100\n",
      "14/14 [==============================] - 0s 8ms/step - loss: 0.2723 - mse: 0.0440 - val_loss: 0.2825 - val_mse: 0.0411\n",
      "Epoch 65/100\n",
      "14/14 [==============================] - 0s 8ms/step - loss: 0.2774 - mse: 0.0450 - val_loss: 0.2833 - val_mse: 0.0377\n",
      "Epoch 66/100\n",
      "14/14 [==============================] - 0s 8ms/step - loss: 0.2707 - mse: 0.0438 - val_loss: 0.3009 - val_mse: 0.0451\n",
      "Epoch 67/100\n",
      "14/14 [==============================] - 0s 8ms/step - loss: 0.2744 - mse: 0.0429 - val_loss: 0.2927 - val_mse: 0.0433\n",
      "Epoch 68/100\n",
      "14/14 [==============================] - 0s 8ms/step - loss: 0.2683 - mse: 0.0446 - val_loss: 0.2906 - val_mse: 0.0396\n",
      "Epoch 69/100\n",
      "14/14 [==============================] - 0s 8ms/step - loss: 0.2732 - mse: 0.0436 - val_loss: 0.2891 - val_mse: 0.0407\n",
      "Epoch 70/100\n",
      "14/14 [==============================] - 0s 8ms/step - loss: 0.2663 - mse: 0.0423 - val_loss: 0.2854 - val_mse: 0.0407\n",
      "Epoch 71/100\n",
      "14/14 [==============================] - 0s 8ms/step - loss: 0.2632 - mse: 0.0432 - val_loss: 0.2807 - val_mse: 0.0394\n",
      "Epoch 72/100\n",
      "14/14 [==============================] - 0s 8ms/step - loss: 0.2696 - mse: 0.0432 - val_loss: 0.2759 - val_mse: 0.0372\n",
      "Epoch 73/100\n",
      "14/14 [==============================] - 0s 8ms/step - loss: 0.2705 - mse: 0.0438 - val_loss: 0.3016 - val_mse: 0.0440\n",
      "Epoch 74/100\n",
      "14/14 [==============================] - 0s 8ms/step - loss: 0.2595 - mse: 0.0443 - val_loss: 0.2847 - val_mse: 0.0387\n",
      "Epoch 75/100\n",
      "14/14 [==============================] - 0s 8ms/step - loss: 0.2679 - mse: 0.0426 - val_loss: 0.2843 - val_mse: 0.0403\n",
      "Epoch 76/100\n",
      "14/14 [==============================] - 0s 8ms/step - loss: 0.2572 - mse: 0.0411 - val_loss: 0.2748 - val_mse: 0.0375\n",
      "Epoch 77/100\n",
      "14/14 [==============================] - 0s 8ms/step - loss: 0.2669 - mse: 0.0429 - val_loss: 0.2897 - val_mse: 0.0402\n",
      "Epoch 78/100\n",
      "14/14 [==============================] - 0s 8ms/step - loss: 0.2646 - mse: 0.0431 - val_loss: 0.2768 - val_mse: 0.0372\n",
      "Epoch 79/100\n",
      "14/14 [==============================] - 0s 8ms/step - loss: 0.2586 - mse: 0.0409 - val_loss: 0.2991 - val_mse: 0.0430\n",
      "Epoch 80/100\n",
      "14/14 [==============================] - 0s 8ms/step - loss: 0.2617 - mse: 0.0412 - val_loss: 0.2923 - val_mse: 0.0409\n",
      "Epoch 81/100\n",
      "14/14 [==============================] - 0s 8ms/step - loss: 0.2707 - mse: 0.0431 - val_loss: 0.2910 - val_mse: 0.0397\n",
      "Epoch 82/100\n",
      "14/14 [==============================] - 0s 8ms/step - loss: 0.2690 - mse: 0.0419 - val_loss: 0.2981 - val_mse: 0.0418\n",
      "Epoch 83/100\n",
      "14/14 [==============================] - 0s 8ms/step - loss: 0.2803 - mse: 0.0485 - val_loss: 0.3055 - val_mse: 0.0456\n",
      "Epoch 84/100\n",
      "14/14 [==============================] - 0s 8ms/step - loss: 0.2701 - mse: 0.0430 - val_loss: 0.2697 - val_mse: 0.0344\n",
      "Epoch 85/100\n",
      "14/14 [==============================] - 0s 8ms/step - loss: 0.2530 - mse: 0.0410 - val_loss: 0.2821 - val_mse: 0.0382\n",
      "Epoch 86/100\n",
      "14/14 [==============================] - 0s 10ms/step - loss: 0.2556 - mse: 0.0415 - val_loss: 0.2839 - val_mse: 0.0380\n",
      "Epoch 87/100\n",
      "14/14 [==============================] - 0s 9ms/step - loss: 0.2638 - mse: 0.0413 - val_loss: 0.2907 - val_mse: 0.0407\n",
      "Epoch 88/100\n",
      "14/14 [==============================] - 0s 8ms/step - loss: 0.2615 - mse: 0.0412 - val_loss: 0.2840 - val_mse: 0.0384\n",
      "Epoch 89/100\n",
      "14/14 [==============================] - 0s 8ms/step - loss: 0.2578 - mse: 0.0411 - val_loss: 0.2815 - val_mse: 0.0390\n",
      "Epoch 90/100\n",
      "14/14 [==============================] - 0s 12ms/step - loss: 0.2564 - mse: 0.0424 - val_loss: 0.2780 - val_mse: 0.0359\n",
      "Epoch 91/100\n",
      "14/14 [==============================] - 0s 10ms/step - loss: 0.2482 - mse: 0.0382 - val_loss: 0.2926 - val_mse: 0.0401\n",
      "Epoch 92/100\n",
      "14/14 [==============================] - 0s 14ms/step - loss: 0.2792 - mse: 0.0460 - val_loss: 0.2887 - val_mse: 0.0412\n",
      "Epoch 93/100\n",
      "14/14 [==============================] - 0s 8ms/step - loss: 0.2510 - mse: 0.0404 - val_loss: 0.2917 - val_mse: 0.0414\n",
      "Epoch 94/100\n",
      "14/14 [==============================] - 0s 8ms/step - loss: 0.2636 - mse: 0.0432 - val_loss: 0.3045 - val_mse: 0.0471\n",
      "Epoch 95/100\n",
      "14/14 [==============================] - 0s 8ms/step - loss: 0.2789 - mse: 0.0464 - val_loss: 0.2724 - val_mse: 0.0378\n",
      "Epoch 96/100\n",
      "14/14 [==============================] - 0s 8ms/step - loss: 0.2594 - mse: 0.0419 - val_loss: 0.2844 - val_mse: 0.0424\n",
      "Epoch 97/100\n",
      "14/14 [==============================] - 0s 8ms/step - loss: 0.2484 - mse: 0.0411 - val_loss: 0.2749 - val_mse: 0.0392\n",
      "Epoch 98/100\n",
      "14/14 [==============================] - 0s 8ms/step - loss: 0.2529 - mse: 0.0399 - val_loss: 0.2828 - val_mse: 0.0398\n",
      "Epoch 99/100\n",
      "14/14 [==============================] - 0s 8ms/step - loss: 0.2475 - mse: 0.0412 - val_loss: 0.2877 - val_mse: 0.0411\n",
      "Epoch 100/100\n",
      "14/14 [==============================] - 0s 8ms/step - loss: 0.2544 - mse: 0.0411 - val_loss: 0.2885 - val_mse: 0.0405\n"
     ]
    }
   ],
   "source": [
    "history = model.fit(X_train_std, y_train_onehot, validation_split=0.2, epochs=100)"
   ]
  },
  {
   "cell_type": "code",
   "execution_count": 155,
   "metadata": {},
   "outputs": [
    {
     "data": {
      "image/png": "[encoded data removed]",
      "text/plain": [
       "<Figure size 640x480 with 1 Axes>"
      ]
     },
     "metadata": {},
     "output_type": "display_data"
    }
   ],
   "source": [
    "# Plot training & validation accuracy values\n",
    "plt.plot(history.history['loss'])\n",
    "plt.plot(history.history['val_loss'])\n",
    "#plt.yscale(\"log\")\n",
    "plt.title('Função Perda')\n",
    "plt.ylabel('Erro')\n",
    "plt.xlabel('Epocas')\n",
    "plt.legend(['Treino','Teste'], loc='upper left')\n",
    "plt.grid()\n",
    "plt.show()"
   ]
  },
  {
   "cell_type": "code",
   "execution_count": 156,
   "metadata": {},
   "outputs": [],
   "source": [
    "#historico = pd.DataFrame(history.history)\n",
    "#historico.to_csv('Historico.csv')"
   ]
  },
  {
   "cell_type": "code",
   "execution_count": 157,
   "metadata": {},
   "outputs": [],
   "source": [
    "#model.save('model_final.h5')"
   ]
  },
  {
   "cell_type": "code",
   "execution_count": 158,
   "metadata": {},
   "outputs": [
    {
     "name": "stdout",
     "output_type": "stream",
     "text": [
      "5/5 [==============================] - 0s 3ms/step\n"
     ]
    }
   ],
   "source": [
    "output_model_ = np.argmax(model.predict(X_test_std), axis=-1)\n",
    "y_test_class = np.argmax(y_test_onehot, axis=-1)"
   ]
  },
  {
   "cell_type": "code",
   "execution_count": 159,
   "metadata": {},
   "outputs": [
    {
     "name": "stdout",
     "output_type": "stream",
     "text": [
      "Acurácia: 0.8939393939393939\n",
      "Precisão: 0.8941798941798941\n",
      "Sensibilidade: 0.8940006740815639\n",
      "F1-Score: 0.8938600615071204\n"
     ]
    }
   ],
   "source": [
    "from sklearn.metrics import accuracy_score\n",
    "from sklearn.metrics import precision_score\n",
    "from sklearn.metrics import recall_score\n",
    "from sklearn.metrics import f1_score\n",
    "\n",
    "print('Acurácia:', accuracy_score(y_test_class, output_model_))\n",
    "print('Precisão:', precision_score(y_test_class, output_model_, average='macro'))\n",
    "print('Sensibilidade:', recall_score(y_test_class, output_model_, average='macro'))\n",
    "print('F1-Score:', f1_score(y_test_class, output_model_, average='macro'))"
   ]
  },
  {
   "cell_type": "code",
   "execution_count": 160,
   "metadata": {},
   "outputs": [
    {
     "data": {
      "image/png": "[encoded data removed]",
      "text/plain": [
       "<Figure size 640x480 with 2 Axes>"
      ]
     },
     "metadata": {},
     "output_type": "display_data"
    }
   ],
   "source": [
    "from sklearn.metrics import confusion_matrix, ConfusionMatrixDisplay\n",
    "\n",
    "cm = confusion_matrix(y_test_class, output_model_)\n",
    "disp = ConfusionMatrixDisplay(confusion_matrix=cm)\n",
    "disp.plot()\n",
    "disp.ax_.set_title('Matriz de confusão')\n",
    "disp.ax_.set_xlabel('Classificação prevista')\n",
    "disp.ax_.set_ylabel('Classificação real')\n",
    "plt.show()"
   ]
  }
 ],
 "metadata": {
  "kernelspec": {
   "display_name": "IA",
   "language": "python",
   "name": "python3"
  },
  "language_info": {
   "codemirror_mode": {
    "name": "ipython",
    "version": 3
   },
   "file_extension": ".py",
   "mimetype": "text/x-python",
   "name": "python",
   "nbconvert_exporter": "python",
   "pygments_lexer": "ipython3",
   "version": "3.11.4"
  },
  "orig_nbformat": 4
 },
 "nbformat": 4,
 "nbformat_minor": 2
}
