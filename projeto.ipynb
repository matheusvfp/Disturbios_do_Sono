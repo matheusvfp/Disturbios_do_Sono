{
 "cells": [
  {
   "cell_type": "markdown",
   "metadata": {},
   "source": [
    "1. Importando bibliotecas"
   ]
  },
  {
   "cell_type": "code",
   "execution_count": 47,
   "metadata": {},
   "outputs": [],
   "source": [
    "import numpy as np\n",
    "import pandas as pd\n",
    "import matplotlib.pyplot as plt\n",
    "import tensorflow as tf\n",
    "from sklearn.model_selection import train_test_split\n",
    "from sklearn.preprocessing import StandardScaler\n",
    "import seaborn as sns\n",
    "from imblearn.over_sampling import SMOTE\n",
    "\n"
   ]
  },
  {
   "cell_type": "markdown",
   "metadata": {},
   "source": [
    "2. Carregando Dataset"
   ]
  },
  {
   "cell_type": "code",
   "execution_count": 48,
   "metadata": {},
   "outputs": [
    {
     "data": {
      "text/html": [
       "<div>\n",
       "<style scoped>\n",
       "    .dataframe tbody tr th:only-of-type {\n",
       "        vertical-align: middle;\n",
       "    }\n",
       "\n",
       "    .dataframe tbody tr th {\n",
       "        vertical-align: top;\n",
       "    }\n",
       "\n",
       "    .dataframe thead th {\n",
       "        text-align: right;\n",
       "    }\n",
       "</style>\n",
       "<table border=\"1\" class=\"dataframe\">\n",
       "  <thead>\n",
       "    <tr style=\"text-align: right;\">\n",
       "      <th></th>\n",
       "      <th>Person ID</th>\n",
       "      <th>Gender</th>\n",
       "      <th>Age</th>\n",
       "      <th>Occupation</th>\n",
       "      <th>Sleep Duration</th>\n",
       "      <th>Quality of Sleep</th>\n",
       "      <th>Physical Activity Level</th>\n",
       "      <th>Stress Level</th>\n",
       "      <th>BMI Category</th>\n",
       "      <th>Blood Pressure</th>\n",
       "      <th>Heart Rate</th>\n",
       "      <th>Daily Steps</th>\n",
       "      <th>Sleep Disorder</th>\n",
       "    </tr>\n",
       "  </thead>\n",
       "  <tbody>\n",
       "    <tr>\n",
       "      <th>0</th>\n",
       "      <td>1</td>\n",
       "      <td>Male</td>\n",
       "      <td>27</td>\n",
       "      <td>Software Engineer</td>\n",
       "      <td>6.1</td>\n",
       "      <td>6</td>\n",
       "      <td>42</td>\n",
       "      <td>6</td>\n",
       "      <td>Overweight</td>\n",
       "      <td>126/83</td>\n",
       "      <td>77</td>\n",
       "      <td>4200</td>\n",
       "      <td>NaN</td>\n",
       "    </tr>\n",
       "    <tr>\n",
       "      <th>1</th>\n",
       "      <td>2</td>\n",
       "      <td>Male</td>\n",
       "      <td>28</td>\n",
       "      <td>Doctor</td>\n",
       "      <td>6.2</td>\n",
       "      <td>6</td>\n",
       "      <td>60</td>\n",
       "      <td>8</td>\n",
       "      <td>Normal</td>\n",
       "      <td>125/80</td>\n",
       "      <td>75</td>\n",
       "      <td>10000</td>\n",
       "      <td>NaN</td>\n",
       "    </tr>\n",
       "    <tr>\n",
       "      <th>2</th>\n",
       "      <td>3</td>\n",
       "      <td>Male</td>\n",
       "      <td>28</td>\n",
       "      <td>Doctor</td>\n",
       "      <td>6.2</td>\n",
       "      <td>6</td>\n",
       "      <td>60</td>\n",
       "      <td>8</td>\n",
       "      <td>Normal</td>\n",
       "      <td>125/80</td>\n",
       "      <td>75</td>\n",
       "      <td>10000</td>\n",
       "      <td>NaN</td>\n",
       "    </tr>\n",
       "    <tr>\n",
       "      <th>3</th>\n",
       "      <td>4</td>\n",
       "      <td>Male</td>\n",
       "      <td>28</td>\n",
       "      <td>Sales Representative</td>\n",
       "      <td>5.9</td>\n",
       "      <td>4</td>\n",
       "      <td>30</td>\n",
       "      <td>8</td>\n",
       "      <td>Obese</td>\n",
       "      <td>140/90</td>\n",
       "      <td>85</td>\n",
       "      <td>3000</td>\n",
       "      <td>Sleep Apnea</td>\n",
       "    </tr>\n",
       "    <tr>\n",
       "      <th>4</th>\n",
       "      <td>5</td>\n",
       "      <td>Male</td>\n",
       "      <td>28</td>\n",
       "      <td>Sales Representative</td>\n",
       "      <td>5.9</td>\n",
       "      <td>4</td>\n",
       "      <td>30</td>\n",
       "      <td>8</td>\n",
       "      <td>Obese</td>\n",
       "      <td>140/90</td>\n",
       "      <td>85</td>\n",
       "      <td>3000</td>\n",
       "      <td>Sleep Apnea</td>\n",
       "    </tr>\n",
       "  </tbody>\n",
       "</table>\n",
       "</div>"
      ],
      "text/plain": [
       "   Person ID Gender  Age            Occupation  Sleep Duration  \\\n",
       "0          1   Male   27     Software Engineer             6.1   \n",
       "1          2   Male   28                Doctor             6.2   \n",
       "2          3   Male   28                Doctor             6.2   \n",
       "3          4   Male   28  Sales Representative             5.9   \n",
       "4          5   Male   28  Sales Representative             5.9   \n",
       "\n",
       "   Quality of Sleep  Physical Activity Level  Stress Level BMI Category  \\\n",
       "0                 6                       42             6   Overweight   \n",
       "1                 6                       60             8       Normal   \n",
       "2                 6                       60             8       Normal   \n",
       "3                 4                       30             8        Obese   \n",
       "4                 4                       30             8        Obese   \n",
       "\n",
       "  Blood Pressure  Heart Rate  Daily Steps Sleep Disorder  \n",
       "0         126/83          77         4200            NaN  \n",
       "1         125/80          75        10000            NaN  \n",
       "2         125/80          75        10000            NaN  \n",
       "3         140/90          85         3000    Sleep Apnea  \n",
       "4         140/90          85         3000    Sleep Apnea  "
      ]
     },
     "execution_count": 48,
     "metadata": {},
     "output_type": "execute_result"
    }
   ],
   "source": [
    "\n",
    "df = pd.read_csv('Sleep_health_and_lifestyle_dataset.csv', sep=',')\n",
    "df.head()\n"
   ]
  },
  {
   "cell_type": "markdown",
   "metadata": {},
   "source": [
    "2.1 Convertendo Dataset\n"
   ]
  },
  {
   "cell_type": "code",
   "execution_count": 49,
   "metadata": {},
   "outputs": [],
   "source": [
    "df['Gender'] = df['Gender'].astype(\"category\").cat.codes.values\n",
    "df['Occupation'] = df['Occupation'].astype(\"category\").cat.codes.values\n",
    "df['BMI Category'] = df['BMI Category'].astype(\"category\").cat.codes.values\n",
    "df['Blood Pressure'] = df['Blood Pressure'].astype(\"category\").cat.codes.values"
   ]
  },
  {
   "cell_type": "code",
   "execution_count": 50,
   "metadata": {},
   "outputs": [
    {
     "name": "stdout",
     "output_type": "stream",
     "text": [
      "<class 'pandas.core.frame.DataFrame'>\n",
      "RangeIndex: 374 entries, 0 to 373\n",
      "Data columns (total 13 columns):\n",
      " #   Column                   Non-Null Count  Dtype  \n",
      "---  ------                   --------------  -----  \n",
      " 0   Person ID                374 non-null    int64  \n",
      " 1   Gender                   374 non-null    int8   \n",
      " 2   Age                      374 non-null    int64  \n",
      " 3   Occupation               374 non-null    int8   \n",
      " 4   Sleep Duration           374 non-null    float64\n",
      " 5   Quality of Sleep         374 non-null    int64  \n",
      " 6   Physical Activity Level  374 non-null    int64  \n",
      " 7   Stress Level             374 non-null    int64  \n",
      " 8   BMI Category             374 non-null    int8   \n",
      " 9   Blood Pressure           374 non-null    int8   \n",
      " 10  Heart Rate               374 non-null    int64  \n",
      " 11  Daily Steps              374 non-null    int64  \n",
      " 12  Sleep Disorder           155 non-null    object \n",
      "dtypes: float64(1), int64(7), int8(4), object(1)\n",
      "memory usage: 27.9+ KB\n"
     ]
    }
   ],
   "source": [
    "df.info()"
   ]
  },
  {
   "cell_type": "markdown",
   "metadata": {},
   "source": [
    "2.2 Trocar Valor no Dataset"
   ]
  },
  {
   "cell_type": "code",
   "execution_count": 51,
   "metadata": {},
   "outputs": [],
   "source": [
    "df['Sleep Disorder'] = df['Sleep Disorder'].fillna('sem disturbio')\n",
    "classes = df['Sleep Disorder'].unique()\n",
    "#print(classes)"
   ]
  },
  {
   "cell_type": "code",
   "execution_count": 52,
   "metadata": {},
   "outputs": [
    {
     "data": {
      "text/plain": [
       "Sleep Disorder\n",
       "sem disturbio    219\n",
       "Sleep Apnea       78\n",
       "Insomnia          77\n",
       "Name: count, dtype: int64"
      ]
     },
     "execution_count": 52,
     "metadata": {},
     "output_type": "execute_result"
    }
   ],
   "source": [
    "df['Sleep Disorder'].value_counts()\n"
   ]
  },
  {
   "cell_type": "markdown",
   "metadata": {},
   "source": [
    "2.3 Dividindo Dataset "
   ]
  },
  {
   "cell_type": "code",
   "execution_count": 53,
   "metadata": {},
   "outputs": [],
   "source": [
    "X = df.iloc[:, 1:12].values \n",
    "y = df['Sleep Disorder'].values\n",
    "\n",
    "#print(X)\n",
    "#print(y)"
   ]
  },
  {
   "cell_type": "markdown",
   "metadata": {},
   "source": [
    "2.4 Equilibrar Dataset"
   ]
  },
  {
   "cell_type": "code",
   "execution_count": 54,
   "metadata": {},
   "outputs": [],
   "source": [
    "sm = SMOTE(random_state=42,k_neighbors=5)\n",
    "dataset_res, ouput_label= sm.fit_resample(X,y)\n"
   ]
  },
  {
   "cell_type": "markdown",
   "metadata": {},
   "source": [
    "2.5 Separando Dataset entre treino e teste"
   ]
  },
  {
   "cell_type": "code",
   "execution_count": 55,
   "metadata": {},
   "outputs": [],
   "source": [
    "X_train, X_test, y_train, y_test = train_test_split(dataset_res, ouput_label, test_size=0.2)\n",
    "\n",
    "sc = StandardScaler()\n",
    "sc.fit(X_train)\n",
    "X_train_std = sc.fit_transform(X_train)\n",
    "X_test_std = sc.transform(X_test)\n",
    "\n",
    "y_train_onehot = pd.get_dummies(y_train).values\n",
    "y_test_onehot = pd.get_dummies(y_test).values\n",
    "#print(y_train)"
   ]
  },
  {
   "cell_type": "markdown",
   "metadata": {},
   "source": [
    "3. Criando o modelo"
   ]
  },
  {
   "cell_type": "code",
   "execution_count": 56,
   "metadata": {},
   "outputs": [],
   "source": [
    "# Modelo de rede perceptron multicamadas com uma camada oculta de 64 neurônios\n",
    "# e camada de saída com 3 neurônios (3 classes)\n",
    "model = tf.keras.models.Sequential()\n",
    "model.add(tf.keras.layers.Dense(32, input_dim=11, activation='sigmoid', name='oculta'))\n",
    "model.add(tf.keras.layers.Dense(18, input_dim=11, activation='sigmoid', name='oculta2'))\n",
    "model.add(tf.keras.layers.Dense(3, activation='softmax', name='saida'))\n",
    "#model.summary() #visualizando o modelo"
   ]
  },
  {
   "cell_type": "markdown",
   "metadata": {},
   "source": [
    "4. Compilando e treinando o modelo\n"
   ]
  },
  {
   "cell_type": "code",
   "execution_count": 57,
   "metadata": {},
   "outputs": [],
   "source": [
    "# Compile model\n",
    "# Otimizador Adam com taxa de aprendizado de 0.01\n",
    "opt = tf.keras.optimizers.Adam(learning_rate=0.01)\n",
    "# Função de custo categorical_crossentropy (para problemas de classificação com mais de duas classes)\n",
    "# Métrica de avaliação MSE (Mean Squared Error)\n",
    "model.compile(loss='categorical_crossentropy', optimizer=opt, metrics=['mse'])"
   ]
  },
  {
   "cell_type": "code",
   "execution_count": 58,
   "metadata": {},
   "outputs": [
    {
     "name": "stdout",
     "output_type": "stream",
     "text": [
      "Epoch 1/100\n"
     ]
    },
    {
     "name": "stdout",
     "output_type": "stream",
     "text": [
      "14/14 [==============================] - 1s 14ms/step - loss: 1.0123 - mse: 0.2030 - val_loss: 0.8282 - val_mse: 0.1598\n",
      "Epoch 2/100\n",
      "14/14 [==============================] - 0s 3ms/step - loss: 0.7427 - mse: 0.1407 - val_loss: 0.6062 - val_mse: 0.1105\n",
      "Epoch 3/100\n",
      "14/14 [==============================] - 0s 4ms/step - loss: 0.5661 - mse: 0.1004 - val_loss: 0.4866 - val_mse: 0.0822\n",
      "Epoch 4/100\n",
      "14/14 [==============================] - 0s 4ms/step - loss: 0.4877 - mse: 0.0819 - val_loss: 0.4480 - val_mse: 0.0742\n",
      "Epoch 5/100\n",
      "14/14 [==============================] - 0s 4ms/step - loss: 0.4503 - mse: 0.0735 - val_loss: 0.4512 - val_mse: 0.0747\n",
      "Epoch 6/100\n",
      "14/14 [==============================] - 0s 4ms/step - loss: 0.4295 - mse: 0.0686 - val_loss: 0.4364 - val_mse: 0.0718\n",
      "Epoch 7/100\n",
      "14/14 [==============================] - 0s 4ms/step - loss: 0.4166 - mse: 0.0662 - val_loss: 0.4310 - val_mse: 0.0704\n",
      "Epoch 8/100\n",
      "14/14 [==============================] - 0s 4ms/step - loss: 0.4241 - mse: 0.0680 - val_loss: 0.4149 - val_mse: 0.0681\n",
      "Epoch 9/100\n",
      "14/14 [==============================] - 0s 4ms/step - loss: 0.4049 - mse: 0.0641 - val_loss: 0.4049 - val_mse: 0.0664\n",
      "Epoch 10/100\n",
      "14/14 [==============================] - 0s 4ms/step - loss: 0.3960 - mse: 0.0634 - val_loss: 0.4101 - val_mse: 0.0670\n",
      "Epoch 11/100\n",
      "14/14 [==============================] - 0s 4ms/step - loss: 0.3845 - mse: 0.0614 - val_loss: 0.3913 - val_mse: 0.0644\n",
      "Epoch 12/100\n",
      "14/14 [==============================] - 0s 4ms/step - loss: 0.3747 - mse: 0.0601 - val_loss: 0.3811 - val_mse: 0.0632\n",
      "Epoch 13/100\n",
      "14/14 [==============================] - 0s 4ms/step - loss: 0.3699 - mse: 0.0597 - val_loss: 0.3762 - val_mse: 0.0625\n",
      "Epoch 14/100\n",
      "14/14 [==============================] - 0s 4ms/step - loss: 0.3680 - mse: 0.0600 - val_loss: 0.3567 - val_mse: 0.0590\n",
      "Epoch 15/100\n",
      "14/14 [==============================] - 0s 4ms/step - loss: 0.3567 - mse: 0.0582 - val_loss: 0.3621 - val_mse: 0.0593\n",
      "Epoch 16/100\n",
      "14/14 [==============================] - 0s 4ms/step - loss: 0.3500 - mse: 0.0572 - val_loss: 0.3531 - val_mse: 0.0576\n",
      "Epoch 17/100\n",
      "14/14 [==============================] - 0s 3ms/step - loss: 0.3438 - mse: 0.0562 - val_loss: 0.3391 - val_mse: 0.0559\n",
      "Epoch 18/100\n",
      "14/14 [==============================] - 0s 4ms/step - loss: 0.3400 - mse: 0.0557 - val_loss: 0.3347 - val_mse: 0.0557\n",
      "Epoch 19/100\n",
      "14/14 [==============================] - 0s 3ms/step - loss: 0.3367 - mse: 0.0553 - val_loss: 0.3361 - val_mse: 0.0560\n",
      "Epoch 20/100\n",
      "14/14 [==============================] - 0s 3ms/step - loss: 0.3388 - mse: 0.0563 - val_loss: 0.3307 - val_mse: 0.0555\n",
      "Epoch 21/100\n",
      "14/14 [==============================] - 0s 4ms/step - loss: 0.3301 - mse: 0.0546 - val_loss: 0.3219 - val_mse: 0.0536\n",
      "Epoch 22/100\n",
      "14/14 [==============================] - 0s 4ms/step - loss: 0.3281 - mse: 0.0547 - val_loss: 0.3266 - val_mse: 0.0545\n",
      "Epoch 23/100\n",
      "14/14 [==============================] - 0s 4ms/step - loss: 0.3246 - mse: 0.0538 - val_loss: 0.3238 - val_mse: 0.0542\n",
      "Epoch 24/100\n",
      "14/14 [==============================] - 0s 4ms/step - loss: 0.3214 - mse: 0.0537 - val_loss: 0.3205 - val_mse: 0.0531\n",
      "Epoch 25/100\n",
      "14/14 [==============================] - 0s 4ms/step - loss: 0.3244 - mse: 0.0541 - val_loss: 0.3224 - val_mse: 0.0543\n",
      "Epoch 26/100\n",
      "14/14 [==============================] - 0s 4ms/step - loss: 0.3399 - mse: 0.0566 - val_loss: 0.3271 - val_mse: 0.0529\n",
      "Epoch 27/100\n",
      "14/14 [==============================] - 0s 4ms/step - loss: 0.3222 - mse: 0.0531 - val_loss: 0.3174 - val_mse: 0.0525\n",
      "Epoch 28/100\n",
      "14/14 [==============================] - 0s 4ms/step - loss: 0.3140 - mse: 0.0535 - val_loss: 0.3133 - val_mse: 0.0526\n",
      "Epoch 29/100\n",
      "14/14 [==============================] - 0s 4ms/step - loss: 0.3050 - mse: 0.0507 - val_loss: 0.3077 - val_mse: 0.0511\n",
      "Epoch 30/100\n",
      "14/14 [==============================] - 0s 4ms/step - loss: 0.3064 - mse: 0.0515 - val_loss: 0.3044 - val_mse: 0.0493\n",
      "Epoch 31/100\n",
      "14/14 [==============================] - 0s 4ms/step - loss: 0.2987 - mse: 0.0501 - val_loss: 0.2998 - val_mse: 0.0486\n",
      "Epoch 32/100\n",
      "14/14 [==============================] - 0s 4ms/step - loss: 0.2964 - mse: 0.0498 - val_loss: 0.2996 - val_mse: 0.0485\n",
      "Epoch 33/100\n",
      "14/14 [==============================] - 0s 4ms/step - loss: 0.3054 - mse: 0.0518 - val_loss: 0.3007 - val_mse: 0.0493\n",
      "Epoch 34/100\n",
      "14/14 [==============================] - 0s 4ms/step - loss: 0.3020 - mse: 0.0502 - val_loss: 0.2943 - val_mse: 0.0478\n",
      "Epoch 35/100\n",
      "14/14 [==============================] - 0s 3ms/step - loss: 0.2977 - mse: 0.0497 - val_loss: 0.2936 - val_mse: 0.0463\n",
      "Epoch 36/100\n",
      "14/14 [==============================] - 0s 4ms/step - loss: 0.2919 - mse: 0.0491 - val_loss: 0.2999 - val_mse: 0.0475\n",
      "Epoch 37/100\n",
      "14/14 [==============================] - 0s 3ms/step - loss: 0.3002 - mse: 0.0509 - val_loss: 0.2952 - val_mse: 0.0466\n",
      "Epoch 38/100\n",
      "14/14 [==============================] - 0s 4ms/step - loss: 0.2886 - mse: 0.0485 - val_loss: 0.2919 - val_mse: 0.0462\n",
      "Epoch 39/100\n",
      "14/14 [==============================] - 0s 3ms/step - loss: 0.2901 - mse: 0.0484 - val_loss: 0.2967 - val_mse: 0.0468\n",
      "Epoch 40/100\n",
      "14/14 [==============================] - 0s 4ms/step - loss: 0.2947 - mse: 0.0497 - val_loss: 0.3040 - val_mse: 0.0477\n",
      "Epoch 41/100\n",
      "14/14 [==============================] - 0s 4ms/step - loss: 0.2920 - mse: 0.0497 - val_loss: 0.2955 - val_mse: 0.0469\n",
      "Epoch 42/100\n",
      "14/14 [==============================] - 0s 4ms/step - loss: 0.2850 - mse: 0.0478 - val_loss: 0.2912 - val_mse: 0.0463\n",
      "Epoch 43/100\n",
      "14/14 [==============================] - 0s 4ms/step - loss: 0.3228 - mse: 0.0562 - val_loss: 0.2991 - val_mse: 0.0482\n",
      "Epoch 44/100\n",
      "14/14 [==============================] - 0s 4ms/step - loss: 0.2858 - mse: 0.0480 - val_loss: 0.3010 - val_mse: 0.0471\n",
      "Epoch 45/100\n",
      "14/14 [==============================] - 0s 4ms/step - loss: 0.2877 - mse: 0.0472 - val_loss: 0.2939 - val_mse: 0.0460\n",
      "Epoch 46/100\n",
      "14/14 [==============================] - 0s 3ms/step - loss: 0.2875 - mse: 0.0488 - val_loss: 0.2970 - val_mse: 0.0471\n",
      "Epoch 47/100\n",
      "14/14 [==============================] - 0s 3ms/step - loss: 0.2836 - mse: 0.0474 - val_loss: 0.2926 - val_mse: 0.0461\n",
      "Epoch 48/100\n",
      "14/14 [==============================] - 0s 3ms/step - loss: 0.2823 - mse: 0.0472 - val_loss: 0.2876 - val_mse: 0.0451\n",
      "Epoch 49/100\n",
      "14/14 [==============================] - 0s 4ms/step - loss: 0.2790 - mse: 0.0466 - val_loss: 0.2923 - val_mse: 0.0455\n",
      "Epoch 50/100\n",
      "14/14 [==============================] - 0s 3ms/step - loss: 0.2797 - mse: 0.0471 - val_loss: 0.3066 - val_mse: 0.0483\n",
      "Epoch 51/100\n",
      "14/14 [==============================] - 0s 3ms/step - loss: 0.2779 - mse: 0.0469 - val_loss: 0.2954 - val_mse: 0.0465\n",
      "Epoch 52/100\n",
      "14/14 [==============================] - 0s 4ms/step - loss: 0.2799 - mse: 0.0464 - val_loss: 0.2945 - val_mse: 0.0457\n",
      "Epoch 53/100\n",
      "14/14 [==============================] - 0s 4ms/step - loss: 0.2788 - mse: 0.0465 - val_loss: 0.2931 - val_mse: 0.0456\n",
      "Epoch 54/100\n",
      "14/14 [==============================] - 0s 4ms/step - loss: 0.2774 - mse: 0.0467 - val_loss: 0.2900 - val_mse: 0.0449\n",
      "Epoch 55/100\n",
      "14/14 [==============================] - 0s 4ms/step - loss: 0.2769 - mse: 0.0466 - val_loss: 0.2952 - val_mse: 0.0448\n",
      "Epoch 56/100\n",
      "14/14 [==============================] - 0s 3ms/step - loss: 0.2778 - mse: 0.0472 - val_loss: 0.2971 - val_mse: 0.0457\n",
      "Epoch 57/100\n",
      "14/14 [==============================] - 0s 4ms/step - loss: 0.2732 - mse: 0.0458 - val_loss: 0.2948 - val_mse: 0.0455\n",
      "Epoch 58/100\n",
      "14/14 [==============================] - 0s 3ms/step - loss: 0.2743 - mse: 0.0462 - val_loss: 0.2922 - val_mse: 0.0452\n",
      "Epoch 59/100\n",
      "14/14 [==============================] - 0s 3ms/step - loss: 0.2742 - mse: 0.0460 - val_loss: 0.2890 - val_mse: 0.0442\n",
      "Epoch 60/100\n",
      "14/14 [==============================] - 0s 4ms/step - loss: 0.2714 - mse: 0.0453 - val_loss: 0.2912 - val_mse: 0.0449\n",
      "Epoch 61/100\n",
      "14/14 [==============================] - 0s 4ms/step - loss: 0.2717 - mse: 0.0455 - val_loss: 0.3001 - val_mse: 0.0457\n",
      "Epoch 62/100\n",
      "14/14 [==============================] - 0s 4ms/step - loss: 0.2940 - mse: 0.0493 - val_loss: 0.2935 - val_mse: 0.0443\n",
      "Epoch 63/100\n",
      "14/14 [==============================] - 0s 4ms/step - loss: 0.2807 - mse: 0.0478 - val_loss: 0.2902 - val_mse: 0.0433\n",
      "Epoch 64/100\n",
      "14/14 [==============================] - 0s 3ms/step - loss: 0.2741 - mse: 0.0465 - val_loss: 0.2947 - val_mse: 0.0450\n",
      "Epoch 65/100\n",
      "14/14 [==============================] - 0s 3ms/step - loss: 0.2813 - mse: 0.0474 - val_loss: 0.2871 - val_mse: 0.0430\n",
      "Epoch 66/100\n",
      "14/14 [==============================] - 0s 3ms/step - loss: 0.2728 - mse: 0.0461 - val_loss: 0.2914 - val_mse: 0.0442\n",
      "Epoch 67/100\n",
      "14/14 [==============================] - 0s 4ms/step - loss: 0.2713 - mse: 0.0456 - val_loss: 0.2977 - val_mse: 0.0456\n",
      "Epoch 68/100\n",
      "14/14 [==============================] - 0s 3ms/step - loss: 0.2737 - mse: 0.0457 - val_loss: 0.2851 - val_mse: 0.0433\n",
      "Epoch 69/100\n",
      "14/14 [==============================] - 0s 4ms/step - loss: 0.2705 - mse: 0.0453 - val_loss: 0.2956 - val_mse: 0.0449\n",
      "Epoch 70/100\n",
      "14/14 [==============================] - 0s 3ms/step - loss: 0.2673 - mse: 0.0451 - val_loss: 0.2952 - val_mse: 0.0449\n",
      "Epoch 71/100\n",
      "14/14 [==============================] - 0s 4ms/step - loss: 0.2696 - mse: 0.0454 - val_loss: 0.2935 - val_mse: 0.0447\n",
      "Epoch 72/100\n",
      "14/14 [==============================] - 0s 3ms/step - loss: 0.2767 - mse: 0.0465 - val_loss: 0.3017 - val_mse: 0.0461\n",
      "Epoch 73/100\n",
      "14/14 [==============================] - 0s 4ms/step - loss: 0.2676 - mse: 0.0452 - val_loss: 0.2896 - val_mse: 0.0441\n",
      "Epoch 74/100\n",
      "14/14 [==============================] - 0s 3ms/step - loss: 0.2707 - mse: 0.0461 - val_loss: 0.2927 - val_mse: 0.0439\n",
      "Epoch 75/100\n",
      "14/14 [==============================] - 0s 3ms/step - loss: 0.2686 - mse: 0.0452 - val_loss: 0.2974 - val_mse: 0.0450\n",
      "Epoch 76/100\n",
      "14/14 [==============================] - 0s 4ms/step - loss: 0.2654 - mse: 0.0446 - val_loss: 0.2950 - val_mse: 0.0454\n",
      "Epoch 77/100\n",
      "14/14 [==============================] - 0s 4ms/step - loss: 0.2664 - mse: 0.0449 - val_loss: 0.2938 - val_mse: 0.0445\n",
      "Epoch 78/100\n",
      "14/14 [==============================] - 0s 4ms/step - loss: 0.2716 - mse: 0.0456 - val_loss: 0.3000 - val_mse: 0.0464\n",
      "Epoch 79/100\n",
      "14/14 [==============================] - 0s 4ms/step - loss: 0.2660 - mse: 0.0450 - val_loss: 0.2927 - val_mse: 0.0447\n",
      "Epoch 80/100\n",
      "14/14 [==============================] - 0s 4ms/step - loss: 0.2711 - mse: 0.0458 - val_loss: 0.2952 - val_mse: 0.0435\n",
      "Epoch 81/100\n",
      "14/14 [==============================] - 0s 3ms/step - loss: 0.2661 - mse: 0.0452 - val_loss: 0.2928 - val_mse: 0.0437\n",
      "Epoch 82/100\n",
      "14/14 [==============================] - 0s 4ms/step - loss: 0.2649 - mse: 0.0447 - val_loss: 0.2893 - val_mse: 0.0439\n",
      "Epoch 83/100\n",
      "14/14 [==============================] - 0s 4ms/step - loss: 0.2625 - mse: 0.0446 - val_loss: 0.2959 - val_mse: 0.0449\n",
      "Epoch 84/100\n",
      "14/14 [==============================] - 0s 4ms/step - loss: 0.2626 - mse: 0.0445 - val_loss: 0.2950 - val_mse: 0.0445\n",
      "Epoch 85/100\n",
      "14/14 [==============================] - 0s 4ms/step - loss: 0.2586 - mse: 0.0437 - val_loss: 0.3082 - val_mse: 0.0464\n",
      "Epoch 86/100\n",
      "14/14 [==============================] - 0s 4ms/step - loss: 0.2754 - mse: 0.0470 - val_loss: 0.2873 - val_mse: 0.0432\n",
      "Epoch 87/100\n",
      "14/14 [==============================] - 0s 4ms/step - loss: 0.2611 - mse: 0.0443 - val_loss: 0.2967 - val_mse: 0.0435\n",
      "Epoch 88/100\n",
      "14/14 [==============================] - 0s 4ms/step - loss: 0.2730 - mse: 0.0464 - val_loss: 0.3105 - val_mse: 0.0446\n",
      "Epoch 89/100\n",
      "14/14 [==============================] - 0s 4ms/step - loss: 0.2803 - mse: 0.0497 - val_loss: 0.3061 - val_mse: 0.0469\n",
      "Epoch 90/100\n",
      "14/14 [==============================] - 0s 3ms/step - loss: 0.2741 - mse: 0.0461 - val_loss: 0.3027 - val_mse: 0.0468\n",
      "Epoch 91/100\n",
      "14/14 [==============================] - 0s 4ms/step - loss: 0.2753 - mse: 0.0471 - val_loss: 0.3156 - val_mse: 0.0465\n",
      "Epoch 92/100\n",
      "14/14 [==============================] - 0s 3ms/step - loss: 0.2687 - mse: 0.0461 - val_loss: 0.2985 - val_mse: 0.0445\n",
      "Epoch 93/100\n",
      "14/14 [==============================] - 0s 4ms/step - loss: 0.2581 - mse: 0.0442 - val_loss: 0.2982 - val_mse: 0.0449\n",
      "Epoch 94/100\n",
      "14/14 [==============================] - 0s 4ms/step - loss: 0.2564 - mse: 0.0435 - val_loss: 0.3045 - val_mse: 0.0456\n",
      "Epoch 95/100\n",
      "14/14 [==============================] - 0s 3ms/step - loss: 0.2567 - mse: 0.0439 - val_loss: 0.3005 - val_mse: 0.0448\n",
      "Epoch 96/100\n",
      "14/14 [==============================] - 0s 4ms/step - loss: 0.2713 - mse: 0.0466 - val_loss: 0.3006 - val_mse: 0.0453\n",
      "Epoch 97/100\n",
      "14/14 [==============================] - 0s 4ms/step - loss: 0.2596 - mse: 0.0442 - val_loss: 0.3105 - val_mse: 0.0455\n",
      "Epoch 98/100\n",
      "14/14 [==============================] - 0s 4ms/step - loss: 0.2561 - mse: 0.0437 - val_loss: 0.3048 - val_mse: 0.0442\n",
      "Epoch 99/100\n",
      "14/14 [==============================] - 0s 3ms/step - loss: 0.2559 - mse: 0.0438 - val_loss: 0.3044 - val_mse: 0.0447\n",
      "Epoch 100/100\n",
      "14/14 [==============================] - 0s 3ms/step - loss: 0.2592 - mse: 0.0450 - val_loss: 0.3038 - val_mse: 0.0446\n"
     ]
    }
   ],
   "source": [
    "history = model.fit(X_train_std, y_train_onehot, validation_split=0.2, epochs=100)"
   ]
  },
  {
   "cell_type": "code",
   "execution_count": 59,
   "metadata": {},
   "outputs": [
    {
     "data": {
      "image/png": "[encoded data removed]",
      "text/plain": [
       "<Figure size 640x480 with 1 Axes>"
      ]
     },
     "metadata": {},
     "output_type": "display_data"
    }
   ],
   "source": [
    "# Plot training & validation accuracy values\n",
    "plt.plot(history.history['loss'])\n",
    "plt.plot(history.history['val_loss'])\n",
    "plt.yscale(\"log\")\n",
    "plt.title('Função Perda')\n",
    "plt.ylabel('MSE')\n",
    "plt.xlabel('Epocas')\n",
    "plt.legend(['Treino','Teste'], loc='upper left')\n",
    "plt.show()"
   ]
  },
  {
   "cell_type": "code",
   "execution_count": 64,
   "metadata": {},
   "outputs": [
    {
     "name": "stderr",
     "output_type": "stream",
     "text": [
      "c:\\Users\\Matheus\\Desktop\\Projeto Redes Neurais\\IA\\Lib\\site-packages\\keras\\src\\engine\\training.py:3000: UserWarning: You are saving your model as an HDF5 file via `model.save()`. This file format is considered legacy. We recommend using instead the native Keras format, e.g. `model.save('my_model.keras')`.\n",
      "  saving_api.save_model(\n"
     ]
    }
   ],
   "source": [
    "#model.save('my_model1.h5')"
   ]
  },
  {
   "cell_type": "code",
   "execution_count": 61,
   "metadata": {},
   "outputs": [
    {
     "name": "stdout",
     "output_type": "stream",
     "text": [
      "5/5 [==============================] - 0s 1ms/step\n"
     ]
    }
   ],
   "source": [
    "output_model_ = np.argmax(model.predict(X_test_std), axis=-1)\n",
    "y_test_class = np.argmax(y_test_onehot, axis=-1)"
   ]
  },
  {
   "cell_type": "code",
   "execution_count": 62,
   "metadata": {},
   "outputs": [
    {
     "name": "stdout",
     "output_type": "stream",
     "text": [
      "Acurácia: 0.946969696969697\n",
      "Precisão: 0.9428724570203438\n",
      "Sensibilidade: 0.9471096809841875\n",
      "F1-Score: 0.9446485841834679\n"
     ]
    }
   ],
   "source": [
    "from sklearn.metrics import accuracy_score\n",
    "from sklearn.metrics import precision_score\n",
    "from sklearn.metrics import recall_score\n",
    "from sklearn.metrics import f1_score\n",
    "\n",
    "print('Acurácia:', accuracy_score(y_test_class, output_model_))\n",
    "print('Precisão:', precision_score(y_test_class, output_model_, average='macro'))\n",
    "print('Sensibilidade:', recall_score(y_test_class, output_model_, average='macro'))\n",
    "print('F1-Score:', f1_score(y_test_class, output_model_, average='macro'))"
   ]
  },
  {
   "cell_type": "code",
   "execution_count": 63,
   "metadata": {},
   "outputs": [
    {
     "data": {
      "image/png": "[encoded data removed]",
      "text/plain": [
       "<Figure size 640x480 with 2 Axes>"
      ]
     },
     "metadata": {},
     "output_type": "display_data"
    }
   ],
   "source": [
    "from sklearn.metrics import confusion_matrix, ConfusionMatrixDisplay\n",
    "\n",
    "cm = confusion_matrix(y_test_class, output_model_)\n",
    "disp = ConfusionMatrixDisplay(confusion_matrix=cm)\n",
    "disp.plot()\n",
    "disp.ax_.set_title('Matriz de confusão')\n",
    "disp.ax_.set_xlabel('Classificação prevista')\n",
    "disp.ax_.set_ylabel('Classificação real')\n",
    "plt.show()"
   ]
  }
 ],
 "metadata": {
  "kernelspec": {
   "display_name": "IA",
   "language": "python",
   "name": "python3"
  },
  "language_info": {
   "codemirror_mode": {
    "name": "ipython",
    "version": 3
   },
   "file_extension": ".py",
   "mimetype": "text/x-python",
   "name": "python",
   "nbconvert_exporter": "python",
   "pygments_lexer": "ipython3",
   "version": "3.11.0"
  },
  "orig_nbformat": 4
 },
 "nbformat": 4,
 "nbformat_minor": 2
}
